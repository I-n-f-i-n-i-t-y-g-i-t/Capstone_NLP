{
  "nbformat": 4,
  "nbformat_minor": 0,
  "metadata": {
    "colab": {
      "name": "LSTM(Word2Vec)-Sampled.ipynb",
      "provenance": [],
      "collapsed_sections": []
    },
    "kernelspec": {
      "name": "python3",
      "display_name": "Python 3"
    },
    "accelerator": "GPU"
  },
  "cells": [
    {
      "cell_type": "code",
      "metadata": {
        "id": "uAmEZDAKqFvj",
        "outputId": "aed9a70b-d021-4771-d2d6-2c006d2875c0",
        "colab": {
          "base_uri": "https://localhost:8080/",
          "height": 34
        }
      },
      "source": [
        "from google.colab import drive\n",
        "drive.mount('/content/drive')"
      ],
      "execution_count": 42,
      "outputs": [
        {
          "output_type": "stream",
          "text": [
            "Drive already mounted at /content/drive; to attempt to forcibly remount, call drive.mount(\"/content/drive\", force_remount=True).\n"
          ],
          "name": "stdout"
        }
      ]
    },
    {
      "cell_type": "code",
      "metadata": {
        "id": "hNt07qLcqIqv"
      },
      "source": [
        "import pandas as pd\n",
        "import numpy as np\n",
        "import matplotlib.pyplot as plt\n",
        "from IPython.display import display\n",
        "pd.options.display.max_columns = None\n",
        "pd.options.display.max_rows = None"
      ],
      "execution_count": 43,
      "outputs": []
    },
    {
      "cell_type": "code",
      "metadata": {
        "id": "2pZQtLC-qVCF"
      },
      "source": [
        "# Reading the dataset\n",
        "\n",
        "project_path = '/content/drive/My Drive/Colab/'\n",
        "file_name ='TempOutput_1.xlsx'"
      ],
      "execution_count": 44,
      "outputs": []
    },
    {
      "cell_type": "code",
      "metadata": {
        "id": "67ED6lNRqcaS"
      },
      "source": [
        "unsampled_df=pd.read_excel(project_path+file_name)"
      ],
      "execution_count": 45,
      "outputs": []
    },
    {
      "cell_type": "code",
      "metadata": {
        "id": "HyGpHgx4q6ez",
        "outputId": "54a8f85f-b1e1-4248-9e97-f37412178177",
        "colab": {
          "base_uri": "https://localhost:8080/",
          "height": 255
        }
      },
      "source": [
        "unsampled_df.info()"
      ],
      "execution_count": 46,
      "outputs": [
        {
          "output_type": "stream",
          "text": [
            "<class 'pandas.core.frame.DataFrame'>\n",
            "RangeIndex: 7909 entries, 0 to 7908\n",
            "Data columns (total 7 columns):\n",
            " #   Column             Non-Null Count  Dtype \n",
            "---  ------             --------------  ----- \n",
            " 0   Unnamed: 0         7909 non-null   int64 \n",
            " 1   Short description  7909 non-null   object\n",
            " 2   Description        7906 non-null   object\n",
            " 3   Assignment group   7909 non-null   object\n",
            " 4   New Description    7876 non-null   object\n",
            " 5   Language           7909 non-null   object\n",
            " 6   Lemmatized clean   7909 non-null   object\n",
            "dtypes: int64(1), object(6)\n",
            "memory usage: 432.6+ KB\n"
          ],
          "name": "stdout"
        }
      ]
    },
    {
      "cell_type": "code",
      "metadata": {
        "id": "qFenneLtq7cc"
      },
      "source": [
        "unsampled_df.drop([\"Unnamed: 0\",\"Short description\", \"Description\", \"Language\"],axis=1,inplace=True)"
      ],
      "execution_count": 47,
      "outputs": []
    },
    {
      "cell_type": "code",
      "metadata": {
        "id": "2tUdpw0Vq-wI",
        "outputId": "87601c86-fb48-434f-cf7a-c26feca67e99",
        "colab": {
          "base_uri": "https://localhost:8080/",
          "height": 204
        }
      },
      "source": [
        "unsampled_df.head(5)"
      ],
      "execution_count": 48,
      "outputs": [
        {
          "output_type": "execute_result",
          "data": {
            "text/html": [
              "<div>\n",
              "<style scoped>\n",
              "    .dataframe tbody tr th:only-of-type {\n",
              "        vertical-align: middle;\n",
              "    }\n",
              "\n",
              "    .dataframe tbody tr th {\n",
              "        vertical-align: top;\n",
              "    }\n",
              "\n",
              "    .dataframe thead th {\n",
              "        text-align: right;\n",
              "    }\n",
              "</style>\n",
              "<table border=\"1\" class=\"dataframe\">\n",
              "  <thead>\n",
              "    <tr style=\"text-align: right;\">\n",
              "      <th></th>\n",
              "      <th>Assignment group</th>\n",
              "      <th>New Description</th>\n",
              "      <th>Lemmatized clean</th>\n",
              "    </tr>\n",
              "  </thead>\n",
              "  <tbody>\n",
              "    <tr>\n",
              "      <th>0</th>\n",
              "      <td>GRP_0</td>\n",
              "      <td>login issue verified user details employee man...</td>\n",
              "      <td>['login', 'issue', 'verify', 'user', 'detail',...</td>\n",
              "    </tr>\n",
              "    <tr>\n",
              "      <th>1</th>\n",
              "      <td>GRP_0</td>\n",
              "      <td>outlook received from hmjdrvpb komuaywn team m...</td>\n",
              "      <td>['outlook', 'receive', 'hmjdrvpb', 'komuaywn',...</td>\n",
              "    </tr>\n",
              "    <tr>\n",
              "      <th>2</th>\n",
              "      <td>GRP_0</td>\n",
              "      <td>cannot log in to vpn received from eylqgodm yb...</td>\n",
              "      <td>['log', 'vpn', 'receive', 'eylqgodm', 'ybqkwia...</td>\n",
              "    </tr>\n",
              "    <tr>\n",
              "      <th>3</th>\n",
              "      <td>GRP_0</td>\n",
              "      <td>unable to access hr tool page unable to access...</td>\n",
              "      <td>['unable', 'access', 'hr', 'tool', 'page', 'un...</td>\n",
              "    </tr>\n",
              "    <tr>\n",
              "      <th>4</th>\n",
              "      <td>GRP_0</td>\n",
              "      <td>skype error skype error</td>\n",
              "      <td>['skype', 'error', 'skype', 'error']</td>\n",
              "    </tr>\n",
              "  </tbody>\n",
              "</table>\n",
              "</div>"
            ],
            "text/plain": [
              "  Assignment group                                    New Description  \\\n",
              "0            GRP_0  login issue verified user details employee man...   \n",
              "1            GRP_0  outlook received from hmjdrvpb komuaywn team m...   \n",
              "2            GRP_0  cannot log in to vpn received from eylqgodm yb...   \n",
              "3            GRP_0  unable to access hr tool page unable to access...   \n",
              "4            GRP_0                            skype error skype error   \n",
              "\n",
              "                                    Lemmatized clean  \n",
              "0  ['login', 'issue', 'verify', 'user', 'detail',...  \n",
              "1  ['outlook', 'receive', 'hmjdrvpb', 'komuaywn',...  \n",
              "2  ['log', 'vpn', 'receive', 'eylqgodm', 'ybqkwia...  \n",
              "3  ['unable', 'access', 'hr', 'tool', 'page', 'un...  \n",
              "4               ['skype', 'error', 'skype', 'error']  "
            ]
          },
          "metadata": {
            "tags": []
          },
          "execution_count": 48
        }
      ]
    },
    {
      "cell_type": "code",
      "metadata": {
        "id": "IweB6XSkPu_8",
        "outputId": "de12cbae-5266-4d96-eeba-78b0a08dfc90",
        "colab": {
          "base_uri": "https://localhost:8080/",
          "height": 85
        }
      },
      "source": [
        "unsampled_df.isnull().sum()"
      ],
      "execution_count": 49,
      "outputs": [
        {
          "output_type": "execute_result",
          "data": {
            "text/plain": [
              "Assignment group     0\n",
              "New Description     33\n",
              "Lemmatized clean     0\n",
              "dtype: int64"
            ]
          },
          "metadata": {
            "tags": []
          },
          "execution_count": 49
        }
      ]
    },
    {
      "cell_type": "code",
      "metadata": {
        "id": "nQo4j7bgZC3W",
        "outputId": "1ea78d96-edd4-439e-d308-c6e89afb352e",
        "colab": {
          "base_uri": "https://localhost:8080/",
          "height": 1000
        }
      },
      "source": [
        "unsampled_df.isnull().sum()\n",
        "unsampled_df[unsampled_df.isnull().any(axis=1)]"
      ],
      "execution_count": 9,
      "outputs": [
        {
          "output_type": "execute_result",
          "data": {
            "text/html": [
              "<div>\n",
              "<style scoped>\n",
              "    .dataframe tbody tr th:only-of-type {\n",
              "        vertical-align: middle;\n",
              "    }\n",
              "\n",
              "    .dataframe tbody tr th {\n",
              "        vertical-align: top;\n",
              "    }\n",
              "\n",
              "    .dataframe thead th {\n",
              "        text-align: right;\n",
              "    }\n",
              "</style>\n",
              "<table border=\"1\" class=\"dataframe\">\n",
              "  <thead>\n",
              "    <tr style=\"text-align: right;\">\n",
              "      <th></th>\n",
              "      <th>Assignment group</th>\n",
              "      <th>New Description</th>\n",
              "      <th>Lemmatized clean</th>\n",
              "    </tr>\n",
              "  </thead>\n",
              "  <tbody>\n",
              "    <tr>\n",
              "      <th>1038</th>\n",
              "      <td>GRP_48</td>\n",
              "      <td>NaN</td>\n",
              "      <td>[]</td>\n",
              "    </tr>\n",
              "    <tr>\n",
              "      <th>1127</th>\n",
              "      <td>GRP_30</td>\n",
              "      <td>NaN</td>\n",
              "      <td>[]</td>\n",
              "    </tr>\n",
              "    <tr>\n",
              "      <th>1386</th>\n",
              "      <td>GRP_30</td>\n",
              "      <td>NaN</td>\n",
              "      <td>[]</td>\n",
              "    </tr>\n",
              "    <tr>\n",
              "      <th>1621</th>\n",
              "      <td>GRP_48</td>\n",
              "      <td>NaN</td>\n",
              "      <td>[]</td>\n",
              "    </tr>\n",
              "    <tr>\n",
              "      <th>1622</th>\n",
              "      <td>GRP_48</td>\n",
              "      <td>NaN</td>\n",
              "      <td>[]</td>\n",
              "    </tr>\n",
              "    <tr>\n",
              "      <th>1625</th>\n",
              "      <td>GRP_48</td>\n",
              "      <td>NaN</td>\n",
              "      <td>[]</td>\n",
              "    </tr>\n",
              "    <tr>\n",
              "      <th>1631</th>\n",
              "      <td>GRP_48</td>\n",
              "      <td>NaN</td>\n",
              "      <td>[]</td>\n",
              "    </tr>\n",
              "    <tr>\n",
              "      <th>1860</th>\n",
              "      <td>GRP_30</td>\n",
              "      <td>NaN</td>\n",
              "      <td>[]</td>\n",
              "    </tr>\n",
              "    <tr>\n",
              "      <th>1861</th>\n",
              "      <td>GRP_30</td>\n",
              "      <td>NaN</td>\n",
              "      <td>[]</td>\n",
              "    </tr>\n",
              "    <tr>\n",
              "      <th>1906</th>\n",
              "      <td>GRP_31</td>\n",
              "      <td>NaN</td>\n",
              "      <td>[]</td>\n",
              "    </tr>\n",
              "    <tr>\n",
              "      <th>2951</th>\n",
              "      <td>GRP_30</td>\n",
              "      <td>NaN</td>\n",
              "      <td>[]</td>\n",
              "    </tr>\n",
              "    <tr>\n",
              "      <th>2966</th>\n",
              "      <td>GRP_30</td>\n",
              "      <td>NaN</td>\n",
              "      <td>[]</td>\n",
              "    </tr>\n",
              "    <tr>\n",
              "      <th>3138</th>\n",
              "      <td>GRP_31</td>\n",
              "      <td>NaN</td>\n",
              "      <td>[]</td>\n",
              "    </tr>\n",
              "    <tr>\n",
              "      <th>3529</th>\n",
              "      <td>GRP_48</td>\n",
              "      <td>NaN</td>\n",
              "      <td>[]</td>\n",
              "    </tr>\n",
              "    <tr>\n",
              "      <th>3683</th>\n",
              "      <td>GRP_30</td>\n",
              "      <td>NaN</td>\n",
              "      <td>[]</td>\n",
              "    </tr>\n",
              "    <tr>\n",
              "      <th>3857</th>\n",
              "      <td>GRP_30</td>\n",
              "      <td>NaN</td>\n",
              "      <td>[]</td>\n",
              "    </tr>\n",
              "    <tr>\n",
              "      <th>4231</th>\n",
              "      <td>GRP_48</td>\n",
              "      <td>NaN</td>\n",
              "      <td>[]</td>\n",
              "    </tr>\n",
              "    <tr>\n",
              "      <th>4232</th>\n",
              "      <td>GRP_48</td>\n",
              "      <td>NaN</td>\n",
              "      <td>[]</td>\n",
              "    </tr>\n",
              "    <tr>\n",
              "      <th>4233</th>\n",
              "      <td>GRP_48</td>\n",
              "      <td>NaN</td>\n",
              "      <td>[]</td>\n",
              "    </tr>\n",
              "    <tr>\n",
              "      <th>4822</th>\n",
              "      <td>GRP_48</td>\n",
              "      <td>NaN</td>\n",
              "      <td>[]</td>\n",
              "    </tr>\n",
              "    <tr>\n",
              "      <th>4824</th>\n",
              "      <td>GRP_30</td>\n",
              "      <td>NaN</td>\n",
              "      <td>[]</td>\n",
              "    </tr>\n",
              "    <tr>\n",
              "      <th>4960</th>\n",
              "      <td>GRP_30</td>\n",
              "      <td>NaN</td>\n",
              "      <td>[]</td>\n",
              "    </tr>\n",
              "    <tr>\n",
              "      <th>4968</th>\n",
              "      <td>GRP_31</td>\n",
              "      <td>NaN</td>\n",
              "      <td>[]</td>\n",
              "    </tr>\n",
              "    <tr>\n",
              "      <th>5384</th>\n",
              "      <td>GRP_48</td>\n",
              "      <td>NaN</td>\n",
              "      <td>[]</td>\n",
              "    </tr>\n",
              "    <tr>\n",
              "      <th>5522</th>\n",
              "      <td>GRP_30</td>\n",
              "      <td>NaN</td>\n",
              "      <td>[]</td>\n",
              "    </tr>\n",
              "    <tr>\n",
              "      <th>5698</th>\n",
              "      <td>GRP_30</td>\n",
              "      <td>NaN</td>\n",
              "      <td>[]</td>\n",
              "    </tr>\n",
              "    <tr>\n",
              "      <th>6092</th>\n",
              "      <td>GRP_48</td>\n",
              "      <td>NaN</td>\n",
              "      <td>[]</td>\n",
              "    </tr>\n",
              "    <tr>\n",
              "      <th>6093</th>\n",
              "      <td>GRP_48</td>\n",
              "      <td>NaN</td>\n",
              "      <td>[]</td>\n",
              "    </tr>\n",
              "    <tr>\n",
              "      <th>6806</th>\n",
              "      <td>GRP_30</td>\n",
              "      <td>NaN</td>\n",
              "      <td>[]</td>\n",
              "    </tr>\n",
              "    <tr>\n",
              "      <th>6811</th>\n",
              "      <td>GRP_48</td>\n",
              "      <td>NaN</td>\n",
              "      <td>[]</td>\n",
              "    </tr>\n",
              "    <tr>\n",
              "      <th>6814</th>\n",
              "      <td>GRP_48</td>\n",
              "      <td>NaN</td>\n",
              "      <td>[]</td>\n",
              "    </tr>\n",
              "    <tr>\n",
              "      <th>7062</th>\n",
              "      <td>GRP_30</td>\n",
              "      <td>NaN</td>\n",
              "      <td>[]</td>\n",
              "    </tr>\n",
              "    <tr>\n",
              "      <th>7416</th>\n",
              "      <td>GRP_48</td>\n",
              "      <td>NaN</td>\n",
              "      <td>[]</td>\n",
              "    </tr>\n",
              "  </tbody>\n",
              "</table>\n",
              "</div>"
            ],
            "text/plain": [
              "     Assignment group New Description Lemmatized clean\n",
              "1038           GRP_48             NaN               []\n",
              "1127           GRP_30             NaN               []\n",
              "1386           GRP_30             NaN               []\n",
              "1621           GRP_48             NaN               []\n",
              "1622           GRP_48             NaN               []\n",
              "1625           GRP_48             NaN               []\n",
              "1631           GRP_48             NaN               []\n",
              "1860           GRP_30             NaN               []\n",
              "1861           GRP_30             NaN               []\n",
              "1906           GRP_31             NaN               []\n",
              "2951           GRP_30             NaN               []\n",
              "2966           GRP_30             NaN               []\n",
              "3138           GRP_31             NaN               []\n",
              "3529           GRP_48             NaN               []\n",
              "3683           GRP_30             NaN               []\n",
              "3857           GRP_30             NaN               []\n",
              "4231           GRP_48             NaN               []\n",
              "4232           GRP_48             NaN               []\n",
              "4233           GRP_48             NaN               []\n",
              "4822           GRP_48             NaN               []\n",
              "4824           GRP_30             NaN               []\n",
              "4960           GRP_30             NaN               []\n",
              "4968           GRP_31             NaN               []\n",
              "5384           GRP_48             NaN               []\n",
              "5522           GRP_30             NaN               []\n",
              "5698           GRP_30             NaN               []\n",
              "6092           GRP_48             NaN               []\n",
              "6093           GRP_48             NaN               []\n",
              "6806           GRP_30             NaN               []\n",
              "6811           GRP_48             NaN               []\n",
              "6814           GRP_48             NaN               []\n",
              "7062           GRP_30             NaN               []\n",
              "7416           GRP_48             NaN               []"
            ]
          },
          "metadata": {
            "tags": []
          },
          "execution_count": 9
        }
      ]
    },
    {
      "cell_type": "code",
      "metadata": {
        "id": "ojLQpmIKZHrh"
      },
      "source": [
        "unsampled_df = unsampled_df.dropna(axis=0)"
      ],
      "execution_count": 10,
      "outputs": []
    },
    {
      "cell_type": "code",
      "metadata": {
        "id": "OVirHrAqYFuw"
      },
      "source": [
        "others_df = unsampled_df[unsampled_df['Assignment group'] != 'GRP_0']"
      ],
      "execution_count": 11,
      "outputs": []
    },
    {
      "cell_type": "code",
      "metadata": {
        "id": "yyEE6Aj8YOFH",
        "outputId": "be3250d2-13f1-4b0b-b4d8-eb23ff92d3c8",
        "colab": {
          "base_uri": "https://localhost:8080/",
          "height": 34
        }
      },
      "source": [
        "maxOthers = others_df['Assignment group'].value_counts().max()\n",
        "maxOthers"
      ],
      "execution_count": 12,
      "outputs": [
        {
          "output_type": "execute_result",
          "data": {
            "text/plain": [
              "645"
            ]
          },
          "metadata": {
            "tags": []
          },
          "execution_count": 12
        }
      ]
    },
    {
      "cell_type": "code",
      "metadata": {
        "id": "euuBlqDGW1cw"
      },
      "source": [
        "# Upsample the minority classes and downsample the majority classes\n",
        "from sklearn.utils import resample\n",
        "\n",
        "df_to_process = unsampled_df[0:0]\n",
        "for grp in unsampled_df['Assignment group'].unique():\n",
        "    assign_grp_df = unsampled_df[unsampled_df['Assignment group'] == grp]\n",
        "    resampled = resample(assign_grp_df, replace=True, n_samples=maxOthers, random_state=123)\n",
        "    df_to_process = df_to_process.append(resampled)"
      ],
      "execution_count": 13,
      "outputs": []
    },
    {
      "cell_type": "code",
      "metadata": {
        "id": "4D8unQkwtoGT",
        "outputId": "29828938-7a37-4348-c941-d0626986056d",
        "colab": {
          "base_uri": "https://localhost:8080/",
          "height": 102
        }
      },
      "source": [
        "from sklearn import preprocessing \n",
        "  \n",
        "label_encoder = preprocessing.LabelEncoder() \n",
        "  \n",
        "df_to_process['Assignment group ID']= label_encoder.fit_transform(df_to_process['Assignment group']) \n",
        "df_to_process['Assignment group ID'].unique()"
      ],
      "execution_count": 14,
      "outputs": [
        {
          "output_type": "execute_result",
          "data": {
            "text/plain": [
              "array([ 0,  1, 23, 34, 45, 56, 67, 72, 73,  2,  3,  4,  5,  6,  7,  8,  9,\n",
              "       10, 11, 12, 13, 14, 15, 16, 17, 18, 19, 20, 21, 22, 24, 25, 27, 28,\n",
              "       29, 30, 31, 32, 33, 35, 36, 37, 38, 39, 40, 41, 42, 44, 46, 47, 48,\n",
              "       49, 50, 51, 43, 52, 53, 54, 55, 57, 58, 26, 59, 60, 61, 62, 63, 64,\n",
              "       65, 66, 68, 69, 70, 71])"
            ]
          },
          "metadata": {
            "tags": []
          },
          "execution_count": 14
        }
      ]
    },
    {
      "cell_type": "code",
      "metadata": {
        "id": "hqlsXjHtuBBe"
      },
      "source": [
        "# Import the necessary libraries for modelling and plotting acuracy\n",
        "from gensim.models import Word2Vec\n",
        "from tensorflow.keras.layers import Input, Embedding, Bidirectional, LSTM, Dropout, Dense, Activation\n",
        "\n",
        "from tensorflow.keras.models import Model, Sequential\n",
        "import tensorflow as tf\n",
        "from tensorflow.keras.utils import plot_model\n",
        "from keras.preprocessing.text import Tokenizer\n",
        "# import the train test split package from scikit learn\n",
        "from sklearn.model_selection import train_test_split\n",
        "from tensorflow.keras.callbacks import ModelCheckpoint, ReduceLROnPlateau"
      ],
      "execution_count": 15,
      "outputs": []
    },
    {
      "cell_type": "code",
      "metadata": {
        "id": "uuCt1kzvwqgs",
        "outputId": "952846f7-ba12-4d5c-8c4c-089f270ed03c",
        "colab": {
          "base_uri": "https://localhost:8080/",
          "height": 204
        }
      },
      "source": [
        "df_to_process.head(5)"
      ],
      "execution_count": 16,
      "outputs": [
        {
          "output_type": "execute_result",
          "data": {
            "text/html": [
              "<div>\n",
              "<style scoped>\n",
              "    .dataframe tbody tr th:only-of-type {\n",
              "        vertical-align: middle;\n",
              "    }\n",
              "\n",
              "    .dataframe tbody tr th {\n",
              "        vertical-align: top;\n",
              "    }\n",
              "\n",
              "    .dataframe thead th {\n",
              "        text-align: right;\n",
              "    }\n",
              "</style>\n",
              "<table border=\"1\" class=\"dataframe\">\n",
              "  <thead>\n",
              "    <tr style=\"text-align: right;\">\n",
              "      <th></th>\n",
              "      <th>Assignment group</th>\n",
              "      <th>New Description</th>\n",
              "      <th>Lemmatized clean</th>\n",
              "      <th>Assignment group ID</th>\n",
              "    </tr>\n",
              "  </thead>\n",
              "  <tbody>\n",
              "    <tr>\n",
              "      <th>2960</th>\n",
              "      <td>GRP_0</td>\n",
              "      <td>erp login trouble received from xosycftu olhpm...</td>\n",
              "      <td>['erp', 'login', 'trouble', 'receive', 'xosycf...</td>\n",
              "      <td>0</td>\n",
              "    </tr>\n",
              "    <tr>\n",
              "      <th>2447</th>\n",
              "      <td>GRP_0</td>\n",
              "      <td>frequent account lock out frequent account loc...</td>\n",
              "      <td>['frequent', 'account', 'lock', 'frequent', 'a...</td>\n",
              "      <td>0</td>\n",
              "    </tr>\n",
              "    <tr>\n",
              "      <th>3996</th>\n",
              "      <td>GRP_0</td>\n",
              "      <td>login issue login issue verified user details ...</td>\n",
              "      <td>['login', 'issue', 'login', 'issue', 'verify',...</td>\n",
              "      <td>0</td>\n",
              "    </tr>\n",
              "    <tr>\n",
              "      <th>7034</th>\n",
              "      <td>GRP_0</td>\n",
              "      <td>engineering tool is not working engineering to...</td>\n",
              "      <td>['engineering', 'tool', 'work', 'engineering',...</td>\n",
              "      <td>0</td>\n",
              "    </tr>\n",
              "    <tr>\n",
              "      <th>4911</th>\n",
              "      <td>GRP_0</td>\n",
              "      <td>not able to access sid received from miecoszw ...</td>\n",
              "      <td>['able', 'access', 'sid', 'receive', 'miecoszw...</td>\n",
              "      <td>0</td>\n",
              "    </tr>\n",
              "  </tbody>\n",
              "</table>\n",
              "</div>"
            ],
            "text/plain": [
              "     Assignment group                                    New Description  \\\n",
              "2960            GRP_0  erp login trouble received from xosycftu olhpm...   \n",
              "2447            GRP_0  frequent account lock out frequent account loc...   \n",
              "3996            GRP_0  login issue login issue verified user details ...   \n",
              "7034            GRP_0  engineering tool is not working engineering to...   \n",
              "4911            GRP_0  not able to access sid received from miecoszw ...   \n",
              "\n",
              "                                       Lemmatized clean  Assignment group ID  \n",
              "2960  ['erp', 'login', 'trouble', 'receive', 'xosycf...                    0  \n",
              "2447  ['frequent', 'account', 'lock', 'frequent', 'a...                    0  \n",
              "3996  ['login', 'issue', 'login', 'issue', 'verify',...                    0  \n",
              "7034  ['engineering', 'tool', 'work', 'engineering',...                    0  \n",
              "4911  ['able', 'access', 'sid', 'receive', 'miecoszw...                    0  "
            ]
          },
          "metadata": {
            "tags": []
          },
          "execution_count": 16
        }
      ]
    },
    {
      "cell_type": "code",
      "metadata": {
        "id": "UPKUVXNZ-4tX"
      },
      "source": [
        "def wordTokenizer(dataframe):\n",
        "    tokenizer = Tokenizer(num_words=numWords,filters='!\"#$%&()*+,-./:;<=>?@[\\\\]^_`{|}~\\t\\n',lower=True,split=' ', char_level=False)\n",
        "    tokenizer.fit_on_texts(dataframe)\n",
        "    dataframe = tokenizer.texts_to_sequences(dataframe)\n",
        "    return tokenizer,dataframe"
      ],
      "execution_count": 17,
      "outputs": []
    },
    {
      "cell_type": "code",
      "metadata": {
        "id": "ondqXRiHuD20",
        "outputId": "aa86c1ce-8993-42ec-945d-ce2f0301c380",
        "colab": {
          "base_uri": "https://localhost:8080/",
          "height": 71
        }
      },
      "source": [
        "# Word2Vec the dataframe and store the embedding result\n",
        "sentences = [line.split(' ') for line in df_to_process['New Description']] \n",
        "word2vec = Word2Vec(sentences=sentences,min_count=1)\n",
        "word2vec.wv.save_word2vec_format(project_path+'word2vec.txt')"
      ],
      "execution_count": 18,
      "outputs": [
        {
          "output_type": "stream",
          "text": [
            "/usr/local/lib/python3.6/dist-packages/smart_open/smart_open_lib.py:252: UserWarning: This function is deprecated, use smart_open.open instead. See the migration notes for details: https://github.com/RaRe-Technologies/smart_open/blob/master/README.rst#migrating-to-the-new-open-function\n",
            "  'See the migration notes for details: %s' % _MIGRATION_NOTES_URL\n"
          ],
          "name": "stderr"
        }
      ]
    },
    {
      "cell_type": "code",
      "metadata": {
        "id": "5XFRJImZuEob",
        "outputId": "a16e048d-cead-4c37-f6e3-db918d5e9f68",
        "colab": {
          "base_uri": "https://localhost:8080/",
          "height": 34
        }
      },
      "source": [
        "# Load the embedding into memory\n",
        "embedding_indices = dict()\n",
        "f = open(project_path+'word2vec.txt')\n",
        "\n",
        "for line in f:\n",
        "  values = line.split()\n",
        "  word = values[0]\n",
        "  coeff = np.array(values[1:], dtype='float32')\n",
        "  embedding_indices[word] = coeff\n",
        "f.close()\n",
        "\n",
        "len(embedding_indices)"
      ],
      "execution_count": 19,
      "outputs": [
        {
          "output_type": "execute_result",
          "data": {
            "text/plain": [
              "12343"
            ]
          },
          "metadata": {
            "tags": []
          },
          "execution_count": 19
        }
      ]
    },
    {
      "cell_type": "code",
      "metadata": {
        "id": "S-AqksO56pVP"
      },
      "source": [
        "results = pd.DataFrame()\n",
        "predictedResults = pd.DataFrame()"
      ],
      "execution_count": 20,
      "outputs": []
    },
    {
      "cell_type": "code",
      "metadata": {
        "id": "eum7UwuF6r0H",
        "outputId": "38af7354-92f2-4354-9540-e0bd35dbb2b1",
        "colab": {
          "base_uri": "https://localhost:8080/",
          "height": 204
        }
      },
      "source": [
        "df_to_process.head(5)"
      ],
      "execution_count": 21,
      "outputs": [
        {
          "output_type": "execute_result",
          "data": {
            "text/html": [
              "<div>\n",
              "<style scoped>\n",
              "    .dataframe tbody tr th:only-of-type {\n",
              "        vertical-align: middle;\n",
              "    }\n",
              "\n",
              "    .dataframe tbody tr th {\n",
              "        vertical-align: top;\n",
              "    }\n",
              "\n",
              "    .dataframe thead th {\n",
              "        text-align: right;\n",
              "    }\n",
              "</style>\n",
              "<table border=\"1\" class=\"dataframe\">\n",
              "  <thead>\n",
              "    <tr style=\"text-align: right;\">\n",
              "      <th></th>\n",
              "      <th>Assignment group</th>\n",
              "      <th>New Description</th>\n",
              "      <th>Lemmatized clean</th>\n",
              "      <th>Assignment group ID</th>\n",
              "    </tr>\n",
              "  </thead>\n",
              "  <tbody>\n",
              "    <tr>\n",
              "      <th>2960</th>\n",
              "      <td>GRP_0</td>\n",
              "      <td>erp login trouble received from xosycftu olhpm...</td>\n",
              "      <td>['erp', 'login', 'trouble', 'receive', 'xosycf...</td>\n",
              "      <td>0</td>\n",
              "    </tr>\n",
              "    <tr>\n",
              "      <th>2447</th>\n",
              "      <td>GRP_0</td>\n",
              "      <td>frequent account lock out frequent account loc...</td>\n",
              "      <td>['frequent', 'account', 'lock', 'frequent', 'a...</td>\n",
              "      <td>0</td>\n",
              "    </tr>\n",
              "    <tr>\n",
              "      <th>3996</th>\n",
              "      <td>GRP_0</td>\n",
              "      <td>login issue login issue verified user details ...</td>\n",
              "      <td>['login', 'issue', 'login', 'issue', 'verify',...</td>\n",
              "      <td>0</td>\n",
              "    </tr>\n",
              "    <tr>\n",
              "      <th>7034</th>\n",
              "      <td>GRP_0</td>\n",
              "      <td>engineering tool is not working engineering to...</td>\n",
              "      <td>['engineering', 'tool', 'work', 'engineering',...</td>\n",
              "      <td>0</td>\n",
              "    </tr>\n",
              "    <tr>\n",
              "      <th>4911</th>\n",
              "      <td>GRP_0</td>\n",
              "      <td>not able to access sid received from miecoszw ...</td>\n",
              "      <td>['able', 'access', 'sid', 'receive', 'miecoszw...</td>\n",
              "      <td>0</td>\n",
              "    </tr>\n",
              "  </tbody>\n",
              "</table>\n",
              "</div>"
            ],
            "text/plain": [
              "     Assignment group                                    New Description  \\\n",
              "2960            GRP_0  erp login trouble received from xosycftu olhpm...   \n",
              "2447            GRP_0  frequent account lock out frequent account loc...   \n",
              "3996            GRP_0  login issue login issue verified user details ...   \n",
              "7034            GRP_0  engineering tool is not working engineering to...   \n",
              "4911            GRP_0  not able to access sid received from miecoszw ...   \n",
              "\n",
              "                                       Lemmatized clean  Assignment group ID  \n",
              "2960  ['erp', 'login', 'trouble', 'receive', 'xosycf...                    0  \n",
              "2447  ['frequent', 'account', 'lock', 'frequent', 'a...                    0  \n",
              "3996  ['login', 'issue', 'login', 'issue', 'verify',...                    0  \n",
              "7034  ['engineering', 'tool', 'work', 'engineering',...                    0  \n",
              "4911  ['able', 'access', 'sid', 'receive', 'miecoszw...                    0  "
            ]
          },
          "metadata": {
            "tags": []
          },
          "execution_count": 21
        }
      ]
    },
    {
      "cell_type": "code",
      "metadata": {
        "id": "u7IjWCec_JB6"
      },
      "source": [
        "from tensorflow.keras.preprocessing.text import Tokenizer\n",
        "from tensorflow.keras.preprocessing.sequence import pad_sequences\n",
        "\n",
        "max_len = 300\n",
        "tokenizer = Tokenizer(split=' ')\n",
        "tokenizer.fit_on_texts(df_to_process[\"New Description\"].values)\n",
        "X_seq = tokenizer.texts_to_sequences(df_to_process[\"New Description\"].values)\n",
        "X_padded = pad_sequences(X_seq, maxlen=max_len)"
      ],
      "execution_count": 22,
      "outputs": []
    },
    {
      "cell_type": "code",
      "metadata": {
        "id": "r_t1UmfoKTHi",
        "outputId": "6b8bb446-18c7-4387-97f8-dfd0e1d635ff",
        "colab": {
          "base_uri": "https://localhost:8080/",
          "height": 34
        }
      },
      "source": [
        "numWords = len(tokenizer.word_index) + 1\n",
        "epochs = 20\n",
        "batch_size=100\n",
        "numWords"
      ],
      "execution_count": 23,
      "outputs": [
        {
          "output_type": "execute_result",
          "data": {
            "text/plain": [
              "12343"
            ]
          },
          "metadata": {
            "tags": []
          },
          "execution_count": 23
        }
      ]
    },
    {
      "cell_type": "code",
      "metadata": {
        "id": "k6Ih_FN2_xlD"
      },
      "source": [
        "# Try the BiLSTM model on the raw or unsampled data and predict the accuracy.\n",
        "\n",
        "# Tokenize\n",
        "tokenizer, X = wordTokenizer(df_to_process['New Description'])\n",
        "y = np.asarray(df_to_process['Assignment group ID'])\n",
        "X = pad_sequences(X,maxlen=max_len)"
      ],
      "execution_count": 24,
      "outputs": []
    },
    {
      "cell_type": "code",
      "metadata": {
        "id": "bXx3vrlQuVr9",
        "outputId": "932c65e4-8bba-4131-9e42-d7d45725ac27",
        "colab": {
          "base_uri": "https://localhost:8080/",
          "height": 238
        }
      },
      "source": [
        "# Create embedding matrix\n",
        "\n",
        "embedding_matrix = np.zeros((numWords+1,100))\n",
        "\n",
        "for i,word in tokenizer.index_word.items():\n",
        "  if i<numWords+1:\n",
        "    embedding_vector = embedding_indices.get(word)\n",
        "    if embedding_vector is not None:\n",
        "      embedding_matrix[i] = embedding_vector\n",
        "\n",
        "embedding_matrix"
      ],
      "execution_count": 25,
      "outputs": [
        {
          "output_type": "execute_result",
          "data": {
            "text/plain": [
              "array([[ 0.00000000e+00,  0.00000000e+00,  0.00000000e+00, ...,\n",
              "         0.00000000e+00,  0.00000000e+00,  0.00000000e+00],\n",
              "       [ 1.15348303e+00, -1.09320033e+00, -3.00817060e+00, ...,\n",
              "         1.23354208e+00, -1.54826438e+00, -1.24885929e+00],\n",
              "       [ 3.31065506e-01, -1.81466675e+00, -8.92821550e-01, ...,\n",
              "         7.09591568e-01, -1.43603134e+00, -1.08622420e+00],\n",
              "       ...,\n",
              "       [-7.80330366e-03, -9.29059577e-04,  2.08052583e-02, ...,\n",
              "         1.79445501e-02, -2.19938830e-02,  2.06781086e-02],\n",
              "       [-3.98038886e-03, -4.15516784e-03,  1.76522266e-02, ...,\n",
              "         1.95057504e-02, -2.43130829e-02,  1.50261121e-02],\n",
              "       [ 0.00000000e+00,  0.00000000e+00,  0.00000000e+00, ...,\n",
              "         0.00000000e+00,  0.00000000e+00,  0.00000000e+00]])"
            ]
          },
          "metadata": {
            "tags": []
          },
          "execution_count": 25
        }
      ]
    },
    {
      "cell_type": "code",
      "metadata": {
        "id": "xXqT-Q8cIO82"
      },
      "source": [
        "LSTM_w2v_unsampled_weights_df = pd.DataFrame(embedding_matrix)\n",
        "LSTM_w2v_unsampled_weights_df.to_excel(project_path+'LSTM_w2v_unsampled_weights.xlsx', index = True)"
      ],
      "execution_count": 33,
      "outputs": []
    },
    {
      "cell_type": "code",
      "metadata": {
        "id": "YheKYV7quZet"
      },
      "source": [
        "X_train, X_test, y_train, y_test = train_test_split(X,y,test_size = 0.3)"
      ],
      "execution_count": 34,
      "outputs": []
    },
    {
      "cell_type": "code",
      "metadata": {
        "id": "99WPyShLBwHT",
        "outputId": "a1cc857b-34f2-4ae1-9d48-ea6387b781f2",
        "colab": {
          "base_uri": "https://localhost:8080/",
          "height": 289
        }
      },
      "source": [
        "X_train,X_test,y_train,y_test"
      ],
      "execution_count": 35,
      "outputs": [
        {
          "output_type": "execute_result",
          "data": {
            "text/plain": [
              "(array([[   0,    0,    0, ...,   44,    6, 1337],\n",
              "        [   0,    0,    0, ...,  560,   27,  591],\n",
              "        [   0,    0,    0, ...,   14,   43,   20],\n",
              "        ...,\n",
              "        [   0,    0,    0, ...,   14,   43,   20],\n",
              "        [   0,    0,    0, ...,    0,    0,    1],\n",
              "        [   0,    0,    0, ...,    3,    2,  140]], dtype=int32),\n",
              " array([[   0,    0,    0, ...,  720,  204,    9],\n",
              "        [   0,    0,    0, ...,  259,  125,  126],\n",
              "        [   0,    0,    0, ...,  166,  233,    1],\n",
              "        ...,\n",
              "        [   0,    0,    0, ..., 3195, 2294, 1024],\n",
              "        [   0,    0,    0, ...,  318,    1,   68],\n",
              "        [   0,    0,    0, ...,   38,  122,  248]], dtype=int32),\n",
              " array([60, 61, 45, ..., 53, 24, 66]),\n",
              " array([50, 64,  1, ..., 17, 68, 58]))"
            ]
          },
          "metadata": {
            "tags": []
          },
          "execution_count": 35
        }
      ]
    },
    {
      "cell_type": "code",
      "metadata": {
        "id": "TeZrTkshBaNk",
        "outputId": "973f0edf-e0b8-468f-dafc-a1d2aecf7d09",
        "colab": {
          "base_uri": "https://localhost:8080/",
          "height": 102
        }
      },
      "source": [
        "(pd.Series(y_train)).unique()"
      ],
      "execution_count": 36,
      "outputs": [
        {
          "output_type": "execute_result",
          "data": {
            "text/plain": [
              "array([60, 61, 45, 34,  8, 55, 65, 36, 54, 70, 56,  2, 31, 14, 41, 66, 24,\n",
              "       64, 67, 16, 53,  0, 37, 63, 59,  4, 50, 29, 58, 15, 51, 39, 22, 71,\n",
              "       12, 28, 20, 35, 33, 18, 25, 57, 73, 52,  1, 47, 42,  9, 44, 30, 69,\n",
              "       13, 43, 23, 26, 72,  7, 27, 10,  5, 17, 68, 48, 32, 46, 11,  3, 40,\n",
              "       62, 49, 19, 21,  6, 38])"
            ]
          },
          "metadata": {
            "tags": []
          },
          "execution_count": 36
        }
      ]
    },
    {
      "cell_type": "code",
      "metadata": {
        "id": "6leC6fDzudb3",
        "outputId": "9885e764-7484-40ce-ef33-fbeffb563b2e",
        "colab": {
          "base_uri": "https://localhost:8080/",
          "height": 357
        }
      },
      "source": [
        "input_layer = Input(shape=(max_len,),dtype=tf.int64)\n",
        "embed = Embedding(numWords+1,output_dim=100,input_length=max_len,weights=[embedding_matrix], trainable=True)(input_layer)  #weights=[embedding_matrix]\n",
        "lstm=Bidirectional(LSTM(128))(embed)\n",
        "drop=Dropout(0.3)(lstm)\n",
        "dense =Dense(100,activation='relu')(drop)\n",
        "out=Dense((len((pd.Series(y_train)).unique())+1),activation='softmax')(dense)   \n",
        "\n",
        "model = Model(input_layer,out)\n",
        "model.compile(loss='sparse_categorical_crossentropy',optimizer=\"adam\",metrics=['accuracy'])\n",
        "\n",
        "model.summary()\n",
        "plot_model(model,to_file=\"LSTM_Model.jpg\")\n",
        "\n",
        "checkpoint = ModelCheckpoint('model-{epoch:03d}-{val_accuracy:03f}.h5', verbose=1, monitor='val_accuracy',save_best_only=True, mode='auto') \n",
        "reduceLoss = ReduceLROnPlateau(monitor='val_loss', factor=0.2,patience=2, min_lr=0.0001)"
      ],
      "execution_count": 37,
      "outputs": [
        {
          "output_type": "stream",
          "text": [
            "Model: \"functional_3\"\n",
            "_________________________________________________________________\n",
            "Layer (type)                 Output Shape              Param #   \n",
            "=================================================================\n",
            "input_2 (InputLayer)         [(None, 300)]             0         \n",
            "_________________________________________________________________\n",
            "embedding_1 (Embedding)      (None, 300, 100)          1234400   \n",
            "_________________________________________________________________\n",
            "bidirectional_1 (Bidirection (None, 256)               234496    \n",
            "_________________________________________________________________\n",
            "dropout_1 (Dropout)          (None, 256)               0         \n",
            "_________________________________________________________________\n",
            "dense_2 (Dense)              (None, 100)               25700     \n",
            "_________________________________________________________________\n",
            "dense_3 (Dense)              (None, 75)                7575      \n",
            "=================================================================\n",
            "Total params: 1,502,171\n",
            "Trainable params: 1,502,171\n",
            "Non-trainable params: 0\n",
            "_________________________________________________________________\n"
          ],
          "name": "stdout"
        }
      ]
    },
    {
      "cell_type": "code",
      "metadata": {
        "id": "dxrS-3fn7Kp1",
        "outputId": "4ef6fd5d-3bae-4985-b8d0-3c4d9771673d",
        "colab": {
          "base_uri": "https://localhost:8080/",
          "height": 1000
        }
      },
      "source": [
        "model_history = model.fit(X_train,y_train,batch_size=batch_size, epochs=epochs, callbacks=[checkpoint,reduceLoss], validation_data=(X_test,y_test))"
      ],
      "execution_count": 38,
      "outputs": [
        {
          "output_type": "stream",
          "text": [
            "Epoch 1/20\n",
            "335/335 [==============================] - ETA: 0s - loss: 1.8583 - accuracy: 0.5522\n",
            "Epoch 00001: val_accuracy improved from -inf to 0.79552, saving model to model-001-0.795516.h5\n",
            "335/335 [==============================] - 54s 160ms/step - loss: 1.8583 - accuracy: 0.5522 - val_loss: 0.7426 - val_accuracy: 0.7955\n",
            "Epoch 2/20\n",
            "335/335 [==============================] - ETA: 0s - loss: 0.6169 - accuracy: 0.8274\n",
            "Epoch 00002: val_accuracy improved from 0.79552 to 0.88344, saving model to model-002-0.883442.h5\n",
            "335/335 [==============================] - 53s 157ms/step - loss: 0.6169 - accuracy: 0.8274 - val_loss: 0.4030 - val_accuracy: 0.8834\n",
            "Epoch 3/20\n",
            "335/335 [==============================] - ETA: 0s - loss: 0.3873 - accuracy: 0.8857\n",
            "Epoch 00003: val_accuracy improved from 0.88344 to 0.91564, saving model to model-003-0.915637.h5\n",
            "335/335 [==============================] - 53s 157ms/step - loss: 0.3873 - accuracy: 0.8857 - val_loss: 0.2944 - val_accuracy: 0.9156\n",
            "Epoch 4/20\n",
            "335/335 [==============================] - ETA: 0s - loss: 0.2719 - accuracy: 0.9182\n",
            "Epoch 00004: val_accuracy improved from 0.91564 to 0.93051, saving model to model-004-0.930512.h5\n",
            "335/335 [==============================] - 53s 157ms/step - loss: 0.2719 - accuracy: 0.9182 - val_loss: 0.2335 - val_accuracy: 0.9305\n",
            "Epoch 5/20\n",
            "335/335 [==============================] - ETA: 0s - loss: 0.2337 - accuracy: 0.9302\n",
            "Epoch 00005: val_accuracy improved from 0.93051 to 0.93414, saving model to model-005-0.934143.h5\n",
            "335/335 [==============================] - 52s 157ms/step - loss: 0.2337 - accuracy: 0.9302 - val_loss: 0.2211 - val_accuracy: 0.9341\n",
            "Epoch 6/20\n",
            "335/335 [==============================] - ETA: 0s - loss: 0.1955 - accuracy: 0.9406\n",
            "Epoch 00006: val_accuracy improved from 0.93414 to 0.93617, saving model to model-006-0.936169.h5\n",
            "335/335 [==============================] - 53s 157ms/step - loss: 0.1955 - accuracy: 0.9406 - val_loss: 0.2103 - val_accuracy: 0.9362\n",
            "Epoch 7/20\n",
            "335/335 [==============================] - ETA: 0s - loss: 0.1847 - accuracy: 0.9422\n",
            "Epoch 00007: val_accuracy improved from 0.93617 to 0.94657, saving model to model-007-0.946575.h5\n",
            "335/335 [==============================] - 53s 157ms/step - loss: 0.1847 - accuracy: 0.9422 - val_loss: 0.1843 - val_accuracy: 0.9466\n",
            "Epoch 8/20\n",
            "335/335 [==============================] - ETA: 0s - loss: 0.1651 - accuracy: 0.9487\n",
            "Epoch 00008: val_accuracy improved from 0.94657 to 0.94741, saving model to model-008-0.947413.h5\n",
            "335/335 [==============================] - 52s 156ms/step - loss: 0.1651 - accuracy: 0.9487 - val_loss: 0.1759 - val_accuracy: 0.9474\n",
            "Epoch 9/20\n",
            "335/335 [==============================] - ETA: 0s - loss: 0.1482 - accuracy: 0.9519\n",
            "Epoch 00009: val_accuracy did not improve from 0.94741\n",
            "335/335 [==============================] - 53s 157ms/step - loss: 0.1482 - accuracy: 0.9519 - val_loss: 0.1722 - val_accuracy: 0.9473\n",
            "Epoch 10/20\n",
            "335/335 [==============================] - ETA: 0s - loss: 0.1387 - accuracy: 0.9545\n",
            "Epoch 00010: val_accuracy improved from 0.94741 to 0.94790, saving model to model-010-0.947901.h5\n",
            "335/335 [==============================] - 52s 156ms/step - loss: 0.1387 - accuracy: 0.9545 - val_loss: 0.1703 - val_accuracy: 0.9479\n",
            "Epoch 11/20\n",
            "335/335 [==============================] - ETA: 0s - loss: 0.1522 - accuracy: 0.9509\n",
            "Epoch 00011: val_accuracy improved from 0.94790 to 0.94944, saving model to model-011-0.949438.h5\n",
            "335/335 [==============================] - 53s 157ms/step - loss: 0.1522 - accuracy: 0.9509 - val_loss: 0.1740 - val_accuracy: 0.9494\n",
            "Epoch 12/20\n",
            "335/335 [==============================] - ETA: 0s - loss: 0.1345 - accuracy: 0.9560\n",
            "Epoch 00012: val_accuracy did not improve from 0.94944\n",
            "335/335 [==============================] - 52s 156ms/step - loss: 0.1345 - accuracy: 0.9560 - val_loss: 0.1795 - val_accuracy: 0.9480\n",
            "Epoch 13/20\n",
            "335/335 [==============================] - ETA: 0s - loss: 0.1193 - accuracy: 0.9592\n",
            "Epoch 00013: val_accuracy improved from 0.94944 to 0.95167, saving model to model-013-0.951673.h5\n",
            "335/335 [==============================] - 52s 157ms/step - loss: 0.1193 - accuracy: 0.9592 - val_loss: 0.1599 - val_accuracy: 0.9517\n",
            "Epoch 14/20\n",
            "335/335 [==============================] - ETA: 0s - loss: 0.1132 - accuracy: 0.9620\n",
            "Epoch 00014: val_accuracy did not improve from 0.95167\n",
            "335/335 [==============================] - 52s 157ms/step - loss: 0.1132 - accuracy: 0.9620 - val_loss: 0.1622 - val_accuracy: 0.9507\n",
            "Epoch 15/20\n",
            "335/335 [==============================] - ETA: 0s - loss: 0.1127 - accuracy: 0.9603\n",
            "Epoch 00015: val_accuracy did not improve from 0.95167\n",
            "335/335 [==============================] - 53s 157ms/step - loss: 0.1127 - accuracy: 0.9603 - val_loss: 0.1626 - val_accuracy: 0.9515\n",
            "Epoch 16/20\n",
            "335/335 [==============================] - ETA: 0s - loss: 0.1114 - accuracy: 0.9613\n",
            "Epoch 00016: val_accuracy did not improve from 0.95167\n",
            "335/335 [==============================] - 52s 157ms/step - loss: 0.1114 - accuracy: 0.9613 - val_loss: 0.1618 - val_accuracy: 0.9511\n",
            "Epoch 17/20\n",
            "335/335 [==============================] - ETA: 0s - loss: 0.1097 - accuracy: 0.9611\n",
            "Epoch 00017: val_accuracy did not improve from 0.95167\n",
            "335/335 [==============================] - 52s 156ms/step - loss: 0.1097 - accuracy: 0.9611 - val_loss: 0.1620 - val_accuracy: 0.9512\n",
            "Epoch 18/20\n",
            "335/335 [==============================] - ETA: 0s - loss: 0.1090 - accuracy: 0.9614\n",
            "Epoch 00018: val_accuracy improved from 0.95167 to 0.95181, saving model to model-018-0.951812.h5\n",
            "335/335 [==============================] - 53s 157ms/step - loss: 0.1090 - accuracy: 0.9614 - val_loss: 0.1622 - val_accuracy: 0.9518\n",
            "Epoch 19/20\n",
            "335/335 [==============================] - ETA: 0s - loss: 0.1083 - accuracy: 0.9615\n",
            "Epoch 00019: val_accuracy did not improve from 0.95181\n",
            "335/335 [==============================] - 52s 157ms/step - loss: 0.1083 - accuracy: 0.9615 - val_loss: 0.1614 - val_accuracy: 0.9516\n",
            "Epoch 20/20\n",
            "335/335 [==============================] - ETA: 0s - loss: 0.1085 - accuracy: 0.9622\n",
            "Epoch 00020: val_accuracy did not improve from 0.95181\n",
            "335/335 [==============================] - 52s 157ms/step - loss: 0.1085 - accuracy: 0.9622 - val_loss: 0.1621 - val_accuracy: 0.9517\n"
          ],
          "name": "stdout"
        }
      ]
    },
    {
      "cell_type": "code",
      "metadata": {
        "id": "roIPIyWkRvuM",
        "outputId": "45f2ed8d-4501-490a-dfb3-82766be86e1e",
        "colab": {
          "base_uri": "https://localhost:8080/",
          "height": 1000
        }
      },
      "source": [
        "model_history.history"
      ],
      "execution_count": null,
      "outputs": [
        {
          "output_type": "execute_result",
          "data": {
            "text/plain": [
              "{'accuracy': [0.5626590251922607,\n",
              "  0.8232318758964539,\n",
              "  0.8896471261978149,\n",
              "  0.9196671843528748,\n",
              "  0.9308611154556274,\n",
              "  0.9337044954299927,\n",
              "  0.9429828524589539,\n",
              "  0.9475921392440796,\n",
              "  0.9497470855712891,\n",
              "  0.956212043762207,\n",
              "  0.958157479763031,\n",
              "  0.9580976366996765,\n",
              "  0.9591152667999268,\n",
              "  0.9588159322738647,\n",
              "  0.9597437977790833,\n",
              "  0.958995521068573,\n",
              "  0.9601628184318542,\n",
              "  0.9612103700637817,\n",
              "  0.9603723287582397,\n",
              "  0.9587560892105103],\n",
              " 'loss': [1.838984489440918,\n",
              "  0.6232320070266724,\n",
              "  0.37952929735183716,\n",
              "  0.27495241165161133,\n",
              "  0.22788368165493011,\n",
              "  0.21699371933937073,\n",
              "  0.18229874968528748,\n",
              "  0.1670667976140976,\n",
              "  0.15365836024284363,\n",
              "  0.13392972946166992,\n",
              "  0.12528900802135468,\n",
              "  0.12182215601205826,\n",
              "  0.12070159614086151,\n",
              "  0.11963889002799988,\n",
              "  0.11750727891921997,\n",
              "  0.11600662767887115,\n",
              "  0.11564932763576508,\n",
              "  0.11442184448242188,\n",
              "  0.1148597002029419,\n",
              "  0.11593712121248245],\n",
              " 'lr': [0.001,\n",
              "  0.001,\n",
              "  0.001,\n",
              "  0.001,\n",
              "  0.001,\n",
              "  0.001,\n",
              "  0.001,\n",
              "  0.001,\n",
              "  0.001,\n",
              "  0.00020000001,\n",
              "  0.00020000001,\n",
              "  0.00020000001,\n",
              "  0.00020000001,\n",
              "  0.00020000001,\n",
              "  1e-04,\n",
              "  1e-04,\n",
              "  1e-04,\n",
              "  1e-04,\n",
              "  1e-04,\n",
              "  1e-04],\n",
              " 'val_accuracy': [0.7902088165283203,\n",
              "  0.8809274435043335,\n",
              "  0.9159159064292908,\n",
              "  0.9240170121192932,\n",
              "  0.9406383037567139,\n",
              "  0.9370067715644836,\n",
              "  0.9419652223587036,\n",
              "  0.9462252855300903,\n",
              "  0.9483203887939453,\n",
              "  0.9514631032943726,\n",
              "  0.9507647156715393,\n",
              "  0.95174241065979,\n",
              "  0.9499965310096741,\n",
              "  0.9525805115699768,\n",
              "  0.9530693292617798,\n",
              "  0.9513932466506958,\n",
              "  0.9525106549263,\n",
              "  0.951323390007019,\n",
              "  0.9503456950187683,\n",
              "  0.9536978602409363],\n",
              " 'val_loss': [0.7386316061019897,\n",
              "  0.4061358571052551,\n",
              "  0.2937731444835663,\n",
              "  0.24572935700416565,\n",
              "  0.20406825840473175,\n",
              "  0.21487219631671906,\n",
              "  0.1821083277463913,\n",
              "  0.18660929799079895,\n",
              "  0.18414248526096344,\n",
              "  0.16689710319042206,\n",
              "  0.1659984141588211,\n",
              "  0.16560320556163788,\n",
              "  0.16685837507247925,\n",
              "  0.1666908711194992,\n",
              "  0.16672685742378235,\n",
              "  0.16393648087978363,\n",
              "  0.16659067571163177,\n",
              "  0.16704660654067993,\n",
              "  0.16870711743831635,\n",
              "  0.16767644882202148]}"
            ]
          },
          "metadata": {
            "tags": []
          },
          "execution_count": 62
        }
      ]
    },
    {
      "cell_type": "code",
      "metadata": {
        "id": "oF3cnBr9VF_o",
        "outputId": "b7988035-9c43-4979-f2fa-cf431066aa74",
        "colab": {
          "base_uri": "https://localhost:8080/",
          "height": 295
        }
      },
      "source": [
        "# Plotting losses\n",
        "loss_values = model_history.history['loss']\n",
        "val_loss_values = model_history.history['val_loss']\n",
        "\n",
        "epochs = range(1, len(loss_values) + 1)\n",
        "\n",
        "plt.plot(epochs, loss_values, 'bo', label=\"Training Loss\")\n",
        "plt.plot(epochs, val_loss_values, 'b', label=\"Validation Loss\")\n",
        "\n",
        "plt.title('LSTM on sampled data - Training and Validation Loss')\n",
        "plt.xlabel('Epochs')\n",
        "plt.ylabel('Loss Value')\n",
        "plt.legend()\n",
        "\n",
        "plt.show()"
      ],
      "execution_count": 39,
      "outputs": [
        {
          "output_type": "display_data",
          "data": {
            "image/png": "[encoded data removed]",
            "text/plain": [
              "<Figure size 432x288 with 1 Axes>"
            ]
          },
          "metadata": {
            "tags": [],
            "needs_background": "light"
          }
        }
      ]
    },
    {
      "cell_type": "code",
      "metadata": {
        "id": "Pn7-u41URKxq",
        "outputId": "5f619eb7-cf15-4201-a6b1-b7c99d9868e1",
        "colab": {
          "base_uri": "https://localhost:8080/",
          "height": 295
        }
      },
      "source": [
        "# Training and Validation Accuracy\n",
        "\n",
        "acc_values = model_history.history['accuracy']\n",
        "val_acc_values = model_history.history['val_accuracy']\n",
        "\n",
        "epochs = range(1, len(loss_values) + 1)\n",
        "\n",
        "plt.plot(epochs, acc_values, 'ro', label=\"Training Accuracy\")\n",
        "plt.plot(epochs, val_acc_values, 'r', label=\"Validation Accuracy\")\n",
        "\n",
        "plt.title('LSTM on sampled data - Training and Validation Accuraccy')\n",
        "plt.xlabel('Epochs')\n",
        "plt.ylabel('Accuracy')\n",
        "plt.legend()\n",
        "\n",
        "plt.show()"
      ],
      "execution_count": 40,
      "outputs": [
        {
          "output_type": "display_data",
          "data": {
            "image/png": "[encoded data removed]",
            "text/plain": [
              "<Figure size 432x288 with 1 Axes>"
            ]
          },
          "metadata": {
            "tags": [],
            "needs_background": "light"
          }
        }
      ]
    },
    {
      "cell_type": "code",
      "metadata": {
        "id": "pnbwRktGU7mG",
        "outputId": "4899379c-32cf-4584-cc66-44d970b190c0",
        "colab": {
          "base_uri": "https://localhost:8080/",
          "height": 669
        }
      },
      "source": [
        "model_df = pd.DataFrame(model_history.history)\n",
        "model_df"
      ],
      "execution_count": 41,
      "outputs": [
        {
          "output_type": "execute_result",
          "data": {
            "text/html": [
              "<div>\n",
              "<style scoped>\n",
              "    .dataframe tbody tr th:only-of-type {\n",
              "        vertical-align: middle;\n",
              "    }\n",
              "\n",
              "    .dataframe tbody tr th {\n",
              "        vertical-align: top;\n",
              "    }\n",
              "\n",
              "    .dataframe thead th {\n",
              "        text-align: right;\n",
              "    }\n",
              "</style>\n",
              "<table border=\"1\" class=\"dataframe\">\n",
              "  <thead>\n",
              "    <tr style=\"text-align: right;\">\n",
              "      <th></th>\n",
              "      <th>loss</th>\n",
              "      <th>accuracy</th>\n",
              "      <th>val_loss</th>\n",
              "      <th>val_accuracy</th>\n",
              "      <th>lr</th>\n",
              "    </tr>\n",
              "  </thead>\n",
              "  <tbody>\n",
              "    <tr>\n",
              "      <th>0</th>\n",
              "      <td>1.858282</td>\n",
              "      <td>0.552243</td>\n",
              "      <td>0.742629</td>\n",
              "      <td>0.795516</td>\n",
              "      <td>0.0010</td>\n",
              "    </tr>\n",
              "    <tr>\n",
              "      <th>1</th>\n",
              "      <td>0.616927</td>\n",
              "      <td>0.827422</td>\n",
              "      <td>0.402989</td>\n",
              "      <td>0.883442</td>\n",
              "      <td>0.0010</td>\n",
              "    </tr>\n",
              "    <tr>\n",
              "      <th>2</th>\n",
              "      <td>0.387309</td>\n",
              "      <td>0.885696</td>\n",
              "      <td>0.294447</td>\n",
              "      <td>0.915637</td>\n",
              "      <td>0.0010</td>\n",
              "    </tr>\n",
              "    <tr>\n",
              "      <th>3</th>\n",
              "      <td>0.271936</td>\n",
              "      <td>0.918201</td>\n",
              "      <td>0.233475</td>\n",
              "      <td>0.930512</td>\n",
              "      <td>0.0010</td>\n",
              "    </tr>\n",
              "    <tr>\n",
              "      <th>4</th>\n",
              "      <td>0.233711</td>\n",
              "      <td>0.930173</td>\n",
              "      <td>0.221141</td>\n",
              "      <td>0.934143</td>\n",
              "      <td>0.0010</td>\n",
              "    </tr>\n",
              "    <tr>\n",
              "      <th>5</th>\n",
              "      <td>0.195550</td>\n",
              "      <td>0.940618</td>\n",
              "      <td>0.210276</td>\n",
              "      <td>0.936169</td>\n",
              "      <td>0.0010</td>\n",
              "    </tr>\n",
              "    <tr>\n",
              "      <th>6</th>\n",
              "      <td>0.184719</td>\n",
              "      <td>0.942205</td>\n",
              "      <td>0.184310</td>\n",
              "      <td>0.946575</td>\n",
              "      <td>0.0010</td>\n",
              "    </tr>\n",
              "    <tr>\n",
              "      <th>7</th>\n",
              "      <td>0.165081</td>\n",
              "      <td>0.948729</td>\n",
              "      <td>0.175929</td>\n",
              "      <td>0.947413</td>\n",
              "      <td>0.0010</td>\n",
              "    </tr>\n",
              "    <tr>\n",
              "      <th>8</th>\n",
              "      <td>0.148249</td>\n",
              "      <td>0.951872</td>\n",
              "      <td>0.172237</td>\n",
              "      <td>0.947343</td>\n",
              "      <td>0.0010</td>\n",
              "    </tr>\n",
              "    <tr>\n",
              "      <th>9</th>\n",
              "      <td>0.138716</td>\n",
              "      <td>0.954536</td>\n",
              "      <td>0.170350</td>\n",
              "      <td>0.947901</td>\n",
              "      <td>0.0010</td>\n",
              "    </tr>\n",
              "    <tr>\n",
              "      <th>10</th>\n",
              "      <td>0.152211</td>\n",
              "      <td>0.950884</td>\n",
              "      <td>0.173991</td>\n",
              "      <td>0.949438</td>\n",
              "      <td>0.0010</td>\n",
              "    </tr>\n",
              "    <tr>\n",
              "      <th>11</th>\n",
              "      <td>0.134475</td>\n",
              "      <td>0.956003</td>\n",
              "      <td>0.179548</td>\n",
              "      <td>0.948041</td>\n",
              "      <td>0.0010</td>\n",
              "    </tr>\n",
              "    <tr>\n",
              "      <th>12</th>\n",
              "      <td>0.119296</td>\n",
              "      <td>0.959205</td>\n",
              "      <td>0.159925</td>\n",
              "      <td>0.951673</td>\n",
              "      <td>0.0002</td>\n",
              "    </tr>\n",
              "    <tr>\n",
              "      <th>13</th>\n",
              "      <td>0.113216</td>\n",
              "      <td>0.962048</td>\n",
              "      <td>0.162219</td>\n",
              "      <td>0.950695</td>\n",
              "      <td>0.0002</td>\n",
              "    </tr>\n",
              "    <tr>\n",
              "      <th>14</th>\n",
              "      <td>0.112733</td>\n",
              "      <td>0.960312</td>\n",
              "      <td>0.162581</td>\n",
              "      <td>0.951463</td>\n",
              "      <td>0.0002</td>\n",
              "    </tr>\n",
              "    <tr>\n",
              "      <th>15</th>\n",
              "      <td>0.111416</td>\n",
              "      <td>0.961270</td>\n",
              "      <td>0.161759</td>\n",
              "      <td>0.951114</td>\n",
              "      <td>0.0001</td>\n",
              "    </tr>\n",
              "    <tr>\n",
              "      <th>16</th>\n",
              "      <td>0.109696</td>\n",
              "      <td>0.961121</td>\n",
              "      <td>0.162023</td>\n",
              "      <td>0.951184</td>\n",
              "      <td>0.0001</td>\n",
              "    </tr>\n",
              "    <tr>\n",
              "      <th>17</th>\n",
              "      <td>0.109024</td>\n",
              "      <td>0.961390</td>\n",
              "      <td>0.162195</td>\n",
              "      <td>0.951812</td>\n",
              "      <td>0.0001</td>\n",
              "    </tr>\n",
              "    <tr>\n",
              "      <th>18</th>\n",
              "      <td>0.108305</td>\n",
              "      <td>0.961510</td>\n",
              "      <td>0.161448</td>\n",
              "      <td>0.951603</td>\n",
              "      <td>0.0001</td>\n",
              "    </tr>\n",
              "    <tr>\n",
              "      <th>19</th>\n",
              "      <td>0.108488</td>\n",
              "      <td>0.962198</td>\n",
              "      <td>0.162092</td>\n",
              "      <td>0.951742</td>\n",
              "      <td>0.0001</td>\n",
              "    </tr>\n",
              "  </tbody>\n",
              "</table>\n",
              "</div>"
            ],
            "text/plain": [
              "        loss  accuracy  val_loss  val_accuracy      lr\n",
              "0   1.858282  0.552243  0.742629      0.795516  0.0010\n",
              "1   0.616927  0.827422  0.402989      0.883442  0.0010\n",
              "2   0.387309  0.885696  0.294447      0.915637  0.0010\n",
              "3   0.271936  0.918201  0.233475      0.930512  0.0010\n",
              "4   0.233711  0.930173  0.221141      0.934143  0.0010\n",
              "5   0.195550  0.940618  0.210276      0.936169  0.0010\n",
              "6   0.184719  0.942205  0.184310      0.946575  0.0010\n",
              "7   0.165081  0.948729  0.175929      0.947413  0.0010\n",
              "8   0.148249  0.951872  0.172237      0.947343  0.0010\n",
              "9   0.138716  0.954536  0.170350      0.947901  0.0010\n",
              "10  0.152211  0.950884  0.173991      0.949438  0.0010\n",
              "11  0.134475  0.956003  0.179548      0.948041  0.0010\n",
              "12  0.119296  0.959205  0.159925      0.951673  0.0002\n",
              "13  0.113216  0.962048  0.162219      0.950695  0.0002\n",
              "14  0.112733  0.960312  0.162581      0.951463  0.0002\n",
              "15  0.111416  0.961270  0.161759      0.951114  0.0001\n",
              "16  0.109696  0.961121  0.162023      0.951184  0.0001\n",
              "17  0.109024  0.961390  0.162195      0.951812  0.0001\n",
              "18  0.108305  0.961510  0.161448      0.951603  0.0001\n",
              "19  0.108488  0.962198  0.162092      0.951742  0.0001"
            ]
          },
          "metadata": {
            "tags": []
          },
          "execution_count": 41
        }
      ]
    },
    {
      "cell_type": "code",
      "metadata": {
        "id": "mPG-tPh9GaMB"
      },
      "source": [
        ""
      ],
      "execution_count": null,
      "outputs": []
    }
  ]
}