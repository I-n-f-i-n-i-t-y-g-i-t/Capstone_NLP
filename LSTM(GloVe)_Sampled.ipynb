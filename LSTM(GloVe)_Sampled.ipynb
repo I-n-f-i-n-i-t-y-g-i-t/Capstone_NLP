{
  "nbformat": 4,
  "nbformat_minor": 0,
  "metadata": {
    "colab": {
      "name": "LSTM(GloVe)-Sampled.ipynb",
      "provenance": [],
      "collapsed_sections": []
    },
    "kernelspec": {
      "name": "python3",
      "display_name": "Python 3"
    },
    "accelerator": "GPU"
  },
  "cells": [
    {
      "cell_type": "code",
      "metadata": {
        "id": "uAmEZDAKqFvj",
        "outputId": "bf7545d9-a333-46fd-b9e5-eb619ed09441",
        "colab": {
          "base_uri": "https://localhost:8080/",
          "height": 34
        }
      },
      "source": [
        "from google.colab import drive\n",
        "drive.mount('/content/drive')"
      ],
      "execution_count": null,
      "outputs": [
        {
          "output_type": "stream",
          "text": [
            "Mounted at /content/drive\n"
          ],
          "name": "stdout"
        }
      ]
    },
    {
      "cell_type": "code",
      "metadata": {
        "id": "hNt07qLcqIqv"
      },
      "source": [
        "import pandas as pd\n",
        "import numpy as np\n",
        "import matplotlib.pyplot as plt\n",
        "from IPython.display import display\n",
        "pd.options.display.max_columns = None\n",
        "pd.options.display.max_rows = None"
      ],
      "execution_count": null,
      "outputs": []
    },
    {
      "cell_type": "code",
      "metadata": {
        "id": "2pZQtLC-qVCF"
      },
      "source": [
        "# Reading the dataset\n",
        "\n",
        "project_path = '/content/drive/My Drive/Colab/'\n",
        "file_name ='TempOutput_1.xlsx'"
      ],
      "execution_count": null,
      "outputs": []
    },
    {
      "cell_type": "code",
      "metadata": {
        "id": "67ED6lNRqcaS"
      },
      "source": [
        "unsampled_df=pd.read_excel(project_path+file_name)"
      ],
      "execution_count": null,
      "outputs": []
    },
    {
      "cell_type": "code",
      "metadata": {
        "id": "HyGpHgx4q6ez",
        "outputId": "44d6d101-df24-48a4-9fc8-54a80627a2ac",
        "colab": {
          "base_uri": "https://localhost:8080/",
          "height": 255
        }
      },
      "source": [
        "unsampled_df.info()"
      ],
      "execution_count": null,
      "outputs": [
        {
          "output_type": "stream",
          "text": [
            "<class 'pandas.core.frame.DataFrame'>\n",
            "RangeIndex: 7909 entries, 0 to 7908\n",
            "Data columns (total 7 columns):\n",
            " #   Column             Non-Null Count  Dtype \n",
            "---  ------             --------------  ----- \n",
            " 0   Unnamed: 0         7909 non-null   int64 \n",
            " 1   Short description  7909 non-null   object\n",
            " 2   Description        7906 non-null   object\n",
            " 3   Assignment group   7909 non-null   object\n",
            " 4   New Description    7876 non-null   object\n",
            " 5   Language           7909 non-null   object\n",
            " 6   Lemmatized clean   7909 non-null   object\n",
            "dtypes: int64(1), object(6)\n",
            "memory usage: 432.6+ KB\n"
          ],
          "name": "stdout"
        }
      ]
    },
    {
      "cell_type": "code",
      "metadata": {
        "id": "qFenneLtq7cc"
      },
      "source": [
        "unsampled_df.drop([\"Unnamed: 0\",\"Short description\", \"Description\", \"Language\"],axis=1,inplace=True)"
      ],
      "execution_count": null,
      "outputs": []
    },
    {
      "cell_type": "code",
      "metadata": {
        "id": "2tUdpw0Vq-wI",
        "outputId": "2cd0588a-08a3-4480-baec-ec7fa03c338c",
        "colab": {
          "base_uri": "https://localhost:8080/",
          "height": 204
        }
      },
      "source": [
        "unsampled_df.head(5)"
      ],
      "execution_count": null,
      "outputs": [
        {
          "output_type": "execute_result",
          "data": {
            "text/html": [
              "<div>\n",
              "<style scoped>\n",
              "    .dataframe tbody tr th:only-of-type {\n",
              "        vertical-align: middle;\n",
              "    }\n",
              "\n",
              "    .dataframe tbody tr th {\n",
              "        vertical-align: top;\n",
              "    }\n",
              "\n",
              "    .dataframe thead th {\n",
              "        text-align: right;\n",
              "    }\n",
              "</style>\n",
              "<table border=\"1\" class=\"dataframe\">\n",
              "  <thead>\n",
              "    <tr style=\"text-align: right;\">\n",
              "      <th></th>\n",
              "      <th>Assignment group</th>\n",
              "      <th>New Description</th>\n",
              "      <th>Lemmatized clean</th>\n",
              "    </tr>\n",
              "  </thead>\n",
              "  <tbody>\n",
              "    <tr>\n",
              "      <th>0</th>\n",
              "      <td>GRP_0</td>\n",
              "      <td>login issue verified user details employee man...</td>\n",
              "      <td>['login', 'issue', 'verify', 'user', 'detail',...</td>\n",
              "    </tr>\n",
              "    <tr>\n",
              "      <th>1</th>\n",
              "      <td>GRP_0</td>\n",
              "      <td>outlook received from hmjdrvpb komuaywn team m...</td>\n",
              "      <td>['outlook', 'receive', 'hmjdrvpb', 'komuaywn',...</td>\n",
              "    </tr>\n",
              "    <tr>\n",
              "      <th>2</th>\n",
              "      <td>GRP_0</td>\n",
              "      <td>cannot log in to vpn received from eylqgodm yb...</td>\n",
              "      <td>['log', 'vpn', 'receive', 'eylqgodm', 'ybqkwia...</td>\n",
              "    </tr>\n",
              "    <tr>\n",
              "      <th>3</th>\n",
              "      <td>GRP_0</td>\n",
              "      <td>unable to access hr tool page unable to access...</td>\n",
              "      <td>['unable', 'access', 'hr', 'tool', 'page', 'un...</td>\n",
              "    </tr>\n",
              "    <tr>\n",
              "      <th>4</th>\n",
              "      <td>GRP_0</td>\n",
              "      <td>skype error skype error</td>\n",
              "      <td>['skype', 'error', 'skype', 'error']</td>\n",
              "    </tr>\n",
              "  </tbody>\n",
              "</table>\n",
              "</div>"
            ],
            "text/plain": [
              "  Assignment group                                    New Description  \\\n",
              "0            GRP_0  login issue verified user details employee man...   \n",
              "1            GRP_0  outlook received from hmjdrvpb komuaywn team m...   \n",
              "2            GRP_0  cannot log in to vpn received from eylqgodm yb...   \n",
              "3            GRP_0  unable to access hr tool page unable to access...   \n",
              "4            GRP_0                            skype error skype error   \n",
              "\n",
              "                                    Lemmatized clean  \n",
              "0  ['login', 'issue', 'verify', 'user', 'detail',...  \n",
              "1  ['outlook', 'receive', 'hmjdrvpb', 'komuaywn',...  \n",
              "2  ['log', 'vpn', 'receive', 'eylqgodm', 'ybqkwia...  \n",
              "3  ['unable', 'access', 'hr', 'tool', 'page', 'un...  \n",
              "4               ['skype', 'error', 'skype', 'error']  "
            ]
          },
          "metadata": {
            "tags": []
          },
          "execution_count": 7
        }
      ]
    },
    {
      "cell_type": "code",
      "metadata": {
        "id": "nQo4j7bgZC3W",
        "outputId": "2d8cf5d1-edcf-4ad2-c10f-35c0b5b577fb",
        "colab": {
          "base_uri": "https://localhost:8080/",
          "height": 1000
        }
      },
      "source": [
        "unsampled_df.isnull().sum()\n",
        "unsampled_df[unsampled_df.isnull().any(axis=1)]"
      ],
      "execution_count": null,
      "outputs": [
        {
          "output_type": "execute_result",
          "data": {
            "text/html": [
              "<div>\n",
              "<style scoped>\n",
              "    .dataframe tbody tr th:only-of-type {\n",
              "        vertical-align: middle;\n",
              "    }\n",
              "\n",
              "    .dataframe tbody tr th {\n",
              "        vertical-align: top;\n",
              "    }\n",
              "\n",
              "    .dataframe thead th {\n",
              "        text-align: right;\n",
              "    }\n",
              "</style>\n",
              "<table border=\"1\" class=\"dataframe\">\n",
              "  <thead>\n",
              "    <tr style=\"text-align: right;\">\n",
              "      <th></th>\n",
              "      <th>Assignment group</th>\n",
              "      <th>New Description</th>\n",
              "      <th>Lemmatized clean</th>\n",
              "    </tr>\n",
              "  </thead>\n",
              "  <tbody>\n",
              "    <tr>\n",
              "      <th>1038</th>\n",
              "      <td>GRP_48</td>\n",
              "      <td>NaN</td>\n",
              "      <td>[]</td>\n",
              "    </tr>\n",
              "    <tr>\n",
              "      <th>1127</th>\n",
              "      <td>GRP_30</td>\n",
              "      <td>NaN</td>\n",
              "      <td>[]</td>\n",
              "    </tr>\n",
              "    <tr>\n",
              "      <th>1386</th>\n",
              "      <td>GRP_30</td>\n",
              "      <td>NaN</td>\n",
              "      <td>[]</td>\n",
              "    </tr>\n",
              "    <tr>\n",
              "      <th>1621</th>\n",
              "      <td>GRP_48</td>\n",
              "      <td>NaN</td>\n",
              "      <td>[]</td>\n",
              "    </tr>\n",
              "    <tr>\n",
              "      <th>1622</th>\n",
              "      <td>GRP_48</td>\n",
              "      <td>NaN</td>\n",
              "      <td>[]</td>\n",
              "    </tr>\n",
              "    <tr>\n",
              "      <th>1625</th>\n",
              "      <td>GRP_48</td>\n",
              "      <td>NaN</td>\n",
              "      <td>[]</td>\n",
              "    </tr>\n",
              "    <tr>\n",
              "      <th>1631</th>\n",
              "      <td>GRP_48</td>\n",
              "      <td>NaN</td>\n",
              "      <td>[]</td>\n",
              "    </tr>\n",
              "    <tr>\n",
              "      <th>1860</th>\n",
              "      <td>GRP_30</td>\n",
              "      <td>NaN</td>\n",
              "      <td>[]</td>\n",
              "    </tr>\n",
              "    <tr>\n",
              "      <th>1861</th>\n",
              "      <td>GRP_30</td>\n",
              "      <td>NaN</td>\n",
              "      <td>[]</td>\n",
              "    </tr>\n",
              "    <tr>\n",
              "      <th>1906</th>\n",
              "      <td>GRP_31</td>\n",
              "      <td>NaN</td>\n",
              "      <td>[]</td>\n",
              "    </tr>\n",
              "    <tr>\n",
              "      <th>2951</th>\n",
              "      <td>GRP_30</td>\n",
              "      <td>NaN</td>\n",
              "      <td>[]</td>\n",
              "    </tr>\n",
              "    <tr>\n",
              "      <th>2966</th>\n",
              "      <td>GRP_30</td>\n",
              "      <td>NaN</td>\n",
              "      <td>[]</td>\n",
              "    </tr>\n",
              "    <tr>\n",
              "      <th>3138</th>\n",
              "      <td>GRP_31</td>\n",
              "      <td>NaN</td>\n",
              "      <td>[]</td>\n",
              "    </tr>\n",
              "    <tr>\n",
              "      <th>3529</th>\n",
              "      <td>GRP_48</td>\n",
              "      <td>NaN</td>\n",
              "      <td>[]</td>\n",
              "    </tr>\n",
              "    <tr>\n",
              "      <th>3683</th>\n",
              "      <td>GRP_30</td>\n",
              "      <td>NaN</td>\n",
              "      <td>[]</td>\n",
              "    </tr>\n",
              "    <tr>\n",
              "      <th>3857</th>\n",
              "      <td>GRP_30</td>\n",
              "      <td>NaN</td>\n",
              "      <td>[]</td>\n",
              "    </tr>\n",
              "    <tr>\n",
              "      <th>4231</th>\n",
              "      <td>GRP_48</td>\n",
              "      <td>NaN</td>\n",
              "      <td>[]</td>\n",
              "    </tr>\n",
              "    <tr>\n",
              "      <th>4232</th>\n",
              "      <td>GRP_48</td>\n",
              "      <td>NaN</td>\n",
              "      <td>[]</td>\n",
              "    </tr>\n",
              "    <tr>\n",
              "      <th>4233</th>\n",
              "      <td>GRP_48</td>\n",
              "      <td>NaN</td>\n",
              "      <td>[]</td>\n",
              "    </tr>\n",
              "    <tr>\n",
              "      <th>4822</th>\n",
              "      <td>GRP_48</td>\n",
              "      <td>NaN</td>\n",
              "      <td>[]</td>\n",
              "    </tr>\n",
              "    <tr>\n",
              "      <th>4824</th>\n",
              "      <td>GRP_30</td>\n",
              "      <td>NaN</td>\n",
              "      <td>[]</td>\n",
              "    </tr>\n",
              "    <tr>\n",
              "      <th>4960</th>\n",
              "      <td>GRP_30</td>\n",
              "      <td>NaN</td>\n",
              "      <td>[]</td>\n",
              "    </tr>\n",
              "    <tr>\n",
              "      <th>4968</th>\n",
              "      <td>GRP_31</td>\n",
              "      <td>NaN</td>\n",
              "      <td>[]</td>\n",
              "    </tr>\n",
              "    <tr>\n",
              "      <th>5384</th>\n",
              "      <td>GRP_48</td>\n",
              "      <td>NaN</td>\n",
              "      <td>[]</td>\n",
              "    </tr>\n",
              "    <tr>\n",
              "      <th>5522</th>\n",
              "      <td>GRP_30</td>\n",
              "      <td>NaN</td>\n",
              "      <td>[]</td>\n",
              "    </tr>\n",
              "    <tr>\n",
              "      <th>5698</th>\n",
              "      <td>GRP_30</td>\n",
              "      <td>NaN</td>\n",
              "      <td>[]</td>\n",
              "    </tr>\n",
              "    <tr>\n",
              "      <th>6092</th>\n",
              "      <td>GRP_48</td>\n",
              "      <td>NaN</td>\n",
              "      <td>[]</td>\n",
              "    </tr>\n",
              "    <tr>\n",
              "      <th>6093</th>\n",
              "      <td>GRP_48</td>\n",
              "      <td>NaN</td>\n",
              "      <td>[]</td>\n",
              "    </tr>\n",
              "    <tr>\n",
              "      <th>6806</th>\n",
              "      <td>GRP_30</td>\n",
              "      <td>NaN</td>\n",
              "      <td>[]</td>\n",
              "    </tr>\n",
              "    <tr>\n",
              "      <th>6811</th>\n",
              "      <td>GRP_48</td>\n",
              "      <td>NaN</td>\n",
              "      <td>[]</td>\n",
              "    </tr>\n",
              "    <tr>\n",
              "      <th>6814</th>\n",
              "      <td>GRP_48</td>\n",
              "      <td>NaN</td>\n",
              "      <td>[]</td>\n",
              "    </tr>\n",
              "    <tr>\n",
              "      <th>7062</th>\n",
              "      <td>GRP_30</td>\n",
              "      <td>NaN</td>\n",
              "      <td>[]</td>\n",
              "    </tr>\n",
              "    <tr>\n",
              "      <th>7416</th>\n",
              "      <td>GRP_48</td>\n",
              "      <td>NaN</td>\n",
              "      <td>[]</td>\n",
              "    </tr>\n",
              "  </tbody>\n",
              "</table>\n",
              "</div>"
            ],
            "text/plain": [
              "     Assignment group New Description Lemmatized clean\n",
              "1038           GRP_48             NaN               []\n",
              "1127           GRP_30             NaN               []\n",
              "1386           GRP_30             NaN               []\n",
              "1621           GRP_48             NaN               []\n",
              "1622           GRP_48             NaN               []\n",
              "1625           GRP_48             NaN               []\n",
              "1631           GRP_48             NaN               []\n",
              "1860           GRP_30             NaN               []\n",
              "1861           GRP_30             NaN               []\n",
              "1906           GRP_31             NaN               []\n",
              "2951           GRP_30             NaN               []\n",
              "2966           GRP_30             NaN               []\n",
              "3138           GRP_31             NaN               []\n",
              "3529           GRP_48             NaN               []\n",
              "3683           GRP_30             NaN               []\n",
              "3857           GRP_30             NaN               []\n",
              "4231           GRP_48             NaN               []\n",
              "4232           GRP_48             NaN               []\n",
              "4233           GRP_48             NaN               []\n",
              "4822           GRP_48             NaN               []\n",
              "4824           GRP_30             NaN               []\n",
              "4960           GRP_30             NaN               []\n",
              "4968           GRP_31             NaN               []\n",
              "5384           GRP_48             NaN               []\n",
              "5522           GRP_30             NaN               []\n",
              "5698           GRP_30             NaN               []\n",
              "6092           GRP_48             NaN               []\n",
              "6093           GRP_48             NaN               []\n",
              "6806           GRP_30             NaN               []\n",
              "6811           GRP_48             NaN               []\n",
              "6814           GRP_48             NaN               []\n",
              "7062           GRP_30             NaN               []\n",
              "7416           GRP_48             NaN               []"
            ]
          },
          "metadata": {
            "tags": []
          },
          "execution_count": 8
        }
      ]
    },
    {
      "cell_type": "code",
      "metadata": {
        "id": "ojLQpmIKZHrh"
      },
      "source": [
        "unsampled_df = unsampled_df.dropna(axis=0)"
      ],
      "execution_count": null,
      "outputs": []
    },
    {
      "cell_type": "code",
      "metadata": {
        "id": "OVirHrAqYFuw"
      },
      "source": [
        "others_df = unsampled_df[unsampled_df['Assignment group'] != 'GRP_0']"
      ],
      "execution_count": null,
      "outputs": []
    },
    {
      "cell_type": "code",
      "metadata": {
        "id": "yyEE6Aj8YOFH",
        "outputId": "9373afe3-eeb6-4dbe-f15f-13f8c1c2614b",
        "colab": {
          "base_uri": "https://localhost:8080/",
          "height": 34
        }
      },
      "source": [
        "maxOthers = others_df['Assignment group'].value_counts().max()\n",
        "maxOthers"
      ],
      "execution_count": null,
      "outputs": [
        {
          "output_type": "execute_result",
          "data": {
            "text/plain": [
              "645"
            ]
          },
          "metadata": {
            "tags": []
          },
          "execution_count": 11
        }
      ]
    },
    {
      "cell_type": "code",
      "metadata": {
        "id": "euuBlqDGW1cw"
      },
      "source": [
        "# Upsample the minority classes and downsample the majority classes\n",
        "from sklearn.utils import resample\n",
        "\n",
        "df_to_process = unsampled_df[0:0]\n",
        "for grp in unsampled_df['Assignment group'].unique():\n",
        "    assign_grp_df = unsampled_df[unsampled_df['Assignment group'] == grp]\n",
        "    resampled = resample(assign_grp_df, replace=True, n_samples=maxOthers, random_state=123)\n",
        "    df_to_process = df_to_process.append(resampled)"
      ],
      "execution_count": null,
      "outputs": []
    },
    {
      "cell_type": "code",
      "metadata": {
        "id": "4D8unQkwtoGT",
        "outputId": "8ae578a9-3d4f-4082-d879-3f21d1c57cf2",
        "colab": {
          "base_uri": "https://localhost:8080/",
          "height": 102
        }
      },
      "source": [
        "from sklearn import preprocessing \n",
        "  \n",
        "label_encoder = preprocessing.LabelEncoder() \n",
        "  \n",
        "df_to_process['Assignment group ID']= label_encoder.fit_transform(df_to_process['Assignment group']) \n",
        "df_to_process['Assignment group ID'].unique()"
      ],
      "execution_count": null,
      "outputs": [
        {
          "output_type": "execute_result",
          "data": {
            "text/plain": [
              "array([ 0,  1, 23, 34, 45, 56, 67, 72, 73,  2,  3,  4,  5,  6,  7,  8,  9,\n",
              "       10, 11, 12, 13, 14, 15, 16, 17, 18, 19, 20, 21, 22, 24, 25, 27, 28,\n",
              "       29, 30, 31, 32, 33, 35, 36, 37, 38, 39, 40, 41, 42, 44, 46, 47, 48,\n",
              "       49, 50, 51, 43, 52, 53, 54, 55, 57, 58, 26, 59, 60, 61, 62, 63, 64,\n",
              "       65, 66, 68, 69, 70, 71])"
            ]
          },
          "metadata": {
            "tags": []
          },
          "execution_count": 13
        }
      ]
    },
    {
      "cell_type": "code",
      "metadata": {
        "id": "hqlsXjHtuBBe"
      },
      "source": [
        "# Import the necessary libraries for modelling and plotting acuracy\n",
        "from tensorflow.keras.layers import Input, Embedding, Bidirectional, LSTM, Dropout, Dense, Activation\n",
        "\n",
        "from tensorflow.keras.models import Model, Sequential\n",
        "import tensorflow as tf\n",
        "from tensorflow.keras.utils import plot_model\n",
        "from keras.preprocessing.text import Tokenizer\n",
        "# import the train test split package from scikit learn\n",
        "from sklearn.model_selection import train_test_split\n",
        "from tensorflow.keras.callbacks import ModelCheckpoint, ReduceLROnPlateau"
      ],
      "execution_count": null,
      "outputs": []
    },
    {
      "cell_type": "code",
      "metadata": {
        "id": "uuCt1kzvwqgs",
        "outputId": "db201360-dca9-4d42-ff9f-b9bba15c2e03",
        "colab": {
          "base_uri": "https://localhost:8080/",
          "height": 204
        }
      },
      "source": [
        "df_to_process.head(5)"
      ],
      "execution_count": null,
      "outputs": [
        {
          "output_type": "execute_result",
          "data": {
            "text/html": [
              "<div>\n",
              "<style scoped>\n",
              "    .dataframe tbody tr th:only-of-type {\n",
              "        vertical-align: middle;\n",
              "    }\n",
              "\n",
              "    .dataframe tbody tr th {\n",
              "        vertical-align: top;\n",
              "    }\n",
              "\n",
              "    .dataframe thead th {\n",
              "        text-align: right;\n",
              "    }\n",
              "</style>\n",
              "<table border=\"1\" class=\"dataframe\">\n",
              "  <thead>\n",
              "    <tr style=\"text-align: right;\">\n",
              "      <th></th>\n",
              "      <th>Assignment group</th>\n",
              "      <th>New Description</th>\n",
              "      <th>Lemmatized clean</th>\n",
              "      <th>Assignment group ID</th>\n",
              "    </tr>\n",
              "  </thead>\n",
              "  <tbody>\n",
              "    <tr>\n",
              "      <th>2960</th>\n",
              "      <td>GRP_0</td>\n",
              "      <td>erp login trouble received from xosycftu olhpm...</td>\n",
              "      <td>['erp', 'login', 'trouble', 'receive', 'xosycf...</td>\n",
              "      <td>0</td>\n",
              "    </tr>\n",
              "    <tr>\n",
              "      <th>2447</th>\n",
              "      <td>GRP_0</td>\n",
              "      <td>frequent account lock out frequent account loc...</td>\n",
              "      <td>['frequent', 'account', 'lock', 'frequent', 'a...</td>\n",
              "      <td>0</td>\n",
              "    </tr>\n",
              "    <tr>\n",
              "      <th>3996</th>\n",
              "      <td>GRP_0</td>\n",
              "      <td>login issue login issue verified user details ...</td>\n",
              "      <td>['login', 'issue', 'login', 'issue', 'verify',...</td>\n",
              "      <td>0</td>\n",
              "    </tr>\n",
              "    <tr>\n",
              "      <th>7034</th>\n",
              "      <td>GRP_0</td>\n",
              "      <td>engineering tool is not working engineering to...</td>\n",
              "      <td>['engineering', 'tool', 'work', 'engineering',...</td>\n",
              "      <td>0</td>\n",
              "    </tr>\n",
              "    <tr>\n",
              "      <th>4911</th>\n",
              "      <td>GRP_0</td>\n",
              "      <td>not able to access sid received from miecoszw ...</td>\n",
              "      <td>['able', 'access', 'sid', 'receive', 'miecoszw...</td>\n",
              "      <td>0</td>\n",
              "    </tr>\n",
              "  </tbody>\n",
              "</table>\n",
              "</div>"
            ],
            "text/plain": [
              "     Assignment group                                    New Description  \\\n",
              "2960            GRP_0  erp login trouble received from xosycftu olhpm...   \n",
              "2447            GRP_0  frequent account lock out frequent account loc...   \n",
              "3996            GRP_0  login issue login issue verified user details ...   \n",
              "7034            GRP_0  engineering tool is not working engineering to...   \n",
              "4911            GRP_0  not able to access sid received from miecoszw ...   \n",
              "\n",
              "                                       Lemmatized clean  Assignment group ID  \n",
              "2960  ['erp', 'login', 'trouble', 'receive', 'xosycf...                    0  \n",
              "2447  ['frequent', 'account', 'lock', 'frequent', 'a...                    0  \n",
              "3996  ['login', 'issue', 'login', 'issue', 'verify',...                    0  \n",
              "7034  ['engineering', 'tool', 'work', 'engineering',...                    0  \n",
              "4911  ['able', 'access', 'sid', 'receive', 'miecoszw...                    0  "
            ]
          },
          "metadata": {
            "tags": []
          },
          "execution_count": 15
        }
      ]
    },
    {
      "cell_type": "code",
      "metadata": {
        "id": "UPKUVXNZ-4tX"
      },
      "source": [
        "def wordTokenizer(dataframe):\n",
        "    tokenizer = Tokenizer(num_words=numWords,filters='!\"#$%&()*+,-./:;<=>?@[\\\\]^_`{|}~\\t\\n',lower=True,split=' ', char_level=False)\n",
        "    tokenizer.fit_on_texts(dataframe)\n",
        "    dataframe = tokenizer.texts_to_sequences(dataframe)\n",
        "    return tokenizer,dataframe"
      ],
      "execution_count": null,
      "outputs": []
    },
    {
      "cell_type": "code",
      "metadata": {
        "id": "ondqXRiHuD20",
        "outputId": "abc0a19f-f43b-45f2-828c-2efd8e11c72b",
        "colab": {
          "base_uri": "https://localhost:8080/",
          "height": 34
        }
      },
      "source": [
        "# GloVe the dataframe and store the embedding result\n",
        "glove_file = project_path + \"glove.6B.zip\"\n",
        "print(glove_file)"
      ],
      "execution_count": null,
      "outputs": [
        {
          "output_type": "stream",
          "text": [
            "/content/drive/My Drive/Colab/glove.6B.zip\n"
          ],
          "name": "stdout"
        }
      ]
    },
    {
      "cell_type": "code",
      "metadata": {
        "id": "ouxQdb92pSgq"
      },
      "source": [
        "#Extract Glove embedding zip file\n",
        "from zipfile import ZipFile\n",
        "with ZipFile(glove_file, 'r') as z:\n",
        "  z.extractall()"
      ],
      "execution_count": null,
      "outputs": []
    },
    {
      "cell_type": "code",
      "metadata": {
        "id": "lkbBackp4qgd"
      },
      "source": [
        "EMBEDDING_FILE = './glove.6B.100d.txt'\n",
        "embeddings_glove = {}\n",
        "for o in open(EMBEDDING_FILE):\n",
        "    word = o.split(\" \")[0]\n",
        "    embd = o.split(\" \")[1:]\n",
        "    embd = np.asarray(embd, dtype='float32')\n",
        "    embeddings_glove[word] = embd"
      ],
      "execution_count": null,
      "outputs": []
    },
    {
      "cell_type": "code",
      "metadata": {
        "id": "S-AqksO56pVP"
      },
      "source": [
        "results = pd.DataFrame()\n",
        "predictedResults = pd.DataFrame()"
      ],
      "execution_count": null,
      "outputs": []
    },
    {
      "cell_type": "code",
      "metadata": {
        "id": "eum7UwuF6r0H",
        "outputId": "f3ec2410-d9f2-4f44-b8bc-eba31bb59be9",
        "colab": {
          "base_uri": "https://localhost:8080/",
          "height": 204
        }
      },
      "source": [
        "df_to_process.head(5)"
      ],
      "execution_count": null,
      "outputs": [
        {
          "output_type": "execute_result",
          "data": {
            "text/html": [
              "<div>\n",
              "<style scoped>\n",
              "    .dataframe tbody tr th:only-of-type {\n",
              "        vertical-align: middle;\n",
              "    }\n",
              "\n",
              "    .dataframe tbody tr th {\n",
              "        vertical-align: top;\n",
              "    }\n",
              "\n",
              "    .dataframe thead th {\n",
              "        text-align: right;\n",
              "    }\n",
              "</style>\n",
              "<table border=\"1\" class=\"dataframe\">\n",
              "  <thead>\n",
              "    <tr style=\"text-align: right;\">\n",
              "      <th></th>\n",
              "      <th>Assignment group</th>\n",
              "      <th>New Description</th>\n",
              "      <th>Lemmatized clean</th>\n",
              "      <th>Assignment group ID</th>\n",
              "    </tr>\n",
              "  </thead>\n",
              "  <tbody>\n",
              "    <tr>\n",
              "      <th>2960</th>\n",
              "      <td>GRP_0</td>\n",
              "      <td>erp login trouble received from xosycftu olhpm...</td>\n",
              "      <td>['erp', 'login', 'trouble', 'receive', 'xosycf...</td>\n",
              "      <td>0</td>\n",
              "    </tr>\n",
              "    <tr>\n",
              "      <th>2447</th>\n",
              "      <td>GRP_0</td>\n",
              "      <td>frequent account lock out frequent account loc...</td>\n",
              "      <td>['frequent', 'account', 'lock', 'frequent', 'a...</td>\n",
              "      <td>0</td>\n",
              "    </tr>\n",
              "    <tr>\n",
              "      <th>3996</th>\n",
              "      <td>GRP_0</td>\n",
              "      <td>login issue login issue verified user details ...</td>\n",
              "      <td>['login', 'issue', 'login', 'issue', 'verify',...</td>\n",
              "      <td>0</td>\n",
              "    </tr>\n",
              "    <tr>\n",
              "      <th>7034</th>\n",
              "      <td>GRP_0</td>\n",
              "      <td>engineering tool is not working engineering to...</td>\n",
              "      <td>['engineering', 'tool', 'work', 'engineering',...</td>\n",
              "      <td>0</td>\n",
              "    </tr>\n",
              "    <tr>\n",
              "      <th>4911</th>\n",
              "      <td>GRP_0</td>\n",
              "      <td>not able to access sid received from miecoszw ...</td>\n",
              "      <td>['able', 'access', 'sid', 'receive', 'miecoszw...</td>\n",
              "      <td>0</td>\n",
              "    </tr>\n",
              "  </tbody>\n",
              "</table>\n",
              "</div>"
            ],
            "text/plain": [
              "     Assignment group                                    New Description  \\\n",
              "2960            GRP_0  erp login trouble received from xosycftu olhpm...   \n",
              "2447            GRP_0  frequent account lock out frequent account loc...   \n",
              "3996            GRP_0  login issue login issue verified user details ...   \n",
              "7034            GRP_0  engineering tool is not working engineering to...   \n",
              "4911            GRP_0  not able to access sid received from miecoszw ...   \n",
              "\n",
              "                                       Lemmatized clean  Assignment group ID  \n",
              "2960  ['erp', 'login', 'trouble', 'receive', 'xosycf...                    0  \n",
              "2447  ['frequent', 'account', 'lock', 'frequent', 'a...                    0  \n",
              "3996  ['login', 'issue', 'login', 'issue', 'verify',...                    0  \n",
              "7034  ['engineering', 'tool', 'work', 'engineering',...                    0  \n",
              "4911  ['able', 'access', 'sid', 'receive', 'miecoszw...                    0  "
            ]
          },
          "metadata": {
            "tags": []
          },
          "execution_count": 21
        }
      ]
    },
    {
      "cell_type": "code",
      "metadata": {
        "id": "u7IjWCec_JB6"
      },
      "source": [
        "from tensorflow.keras.preprocessing.text import Tokenizer\n",
        "from tensorflow.keras.preprocessing.sequence import pad_sequences\n",
        "\n",
        "max_len = 300\n",
        "tokenizer = Tokenizer(split=' ')\n",
        "tokenizer.fit_on_texts(df_to_process[\"New Description\"].values)\n",
        "X_seq = tokenizer.texts_to_sequences(df_to_process[\"New Description\"].values)\n",
        "X_padded = pad_sequences(X_seq, maxlen=max_len)"
      ],
      "execution_count": null,
      "outputs": []
    },
    {
      "cell_type": "code",
      "metadata": {
        "id": "r_t1UmfoKTHi",
        "outputId": "2320cba3-387b-4af5-f1ac-13e39500db1b",
        "colab": {
          "base_uri": "https://localhost:8080/",
          "height": 34
        }
      },
      "source": [
        "numWords = len(tokenizer.word_index) + 1\n",
        "epochs = 20\n",
        "batch_size=100\n",
        "numWords"
      ],
      "execution_count": null,
      "outputs": [
        {
          "output_type": "execute_result",
          "data": {
            "text/plain": [
              "12343"
            ]
          },
          "metadata": {
            "tags": []
          },
          "execution_count": 23
        }
      ]
    },
    {
      "cell_type": "code",
      "metadata": {
        "id": "k6Ih_FN2_xlD"
      },
      "source": [
        "# Try the BiLSTM model on the raw or unsampled data and predict the accuracy.\n",
        "\n",
        "# Tokenize\n",
        "tokenizer, X = wordTokenizer(df_to_process['New Description'])\n",
        "y = np.asarray(df_to_process['Assignment group ID'])\n",
        "X = pad_sequences(X,maxlen=max_len)"
      ],
      "execution_count": null,
      "outputs": []
    },
    {
      "cell_type": "code",
      "metadata": {
        "id": "bXx3vrlQuVr9",
        "outputId": "4500c93c-b20c-445f-9708-f898247b2d68",
        "colab": {
          "base_uri": "https://localhost:8080/",
          "height": 238
        }
      },
      "source": [
        "# Create embedding matrix\n",
        "\n",
        "embedding_matrix = np.zeros((numWords+1,100))\n",
        "\n",
        "for i,word in tokenizer.index_word.items():\n",
        "  if i<numWords+1:\n",
        "    embedding_vector = embeddings_glove.get(word)\n",
        "    if embedding_vector is not None:\n",
        "      embedding_matrix[i] = embedding_vector\n",
        "\n",
        "embedding_matrix"
      ],
      "execution_count": null,
      "outputs": [
        {
          "output_type": "execute_result",
          "data": {
            "text/plain": [
              "array([[ 0.        ,  0.        ,  0.        , ...,  0.        ,\n",
              "         0.        ,  0.        ],\n",
              "       [-0.18970001,  0.050024  ,  0.19084001, ..., -0.39804   ,\n",
              "         0.47646999, -0.15983   ],\n",
              "       [-0.038194  , -0.24487001,  0.72812003, ..., -0.1459    ,\n",
              "         0.82779998,  0.27061999],\n",
              "       ...,\n",
              "       [ 0.        ,  0.        ,  0.        , ...,  0.        ,\n",
              "         0.        ,  0.        ],\n",
              "       [ 0.        ,  0.        ,  0.        , ...,  0.        ,\n",
              "         0.        ,  0.        ],\n",
              "       [ 0.        ,  0.        ,  0.        , ...,  0.        ,\n",
              "         0.        ,  0.        ]])"
            ]
          },
          "metadata": {
            "tags": []
          },
          "execution_count": 25
        }
      ]
    },
    {
      "cell_type": "code",
      "metadata": {
        "id": "YheKYV7quZet"
      },
      "source": [
        "X_train, X_test, y_train, y_test = train_test_split(X,y,test_size = 0.3)"
      ],
      "execution_count": null,
      "outputs": []
    },
    {
      "cell_type": "code",
      "metadata": {
        "id": "99WPyShLBwHT",
        "outputId": "dd89f59c-61e8-40bc-8670-1b80e9fc6fc6",
        "colab": {
          "base_uri": "https://localhost:8080/",
          "height": 289
        }
      },
      "source": [
        "X_train,X_test,y_train,y_test"
      ],
      "execution_count": null,
      "outputs": [
        {
          "output_type": "execute_result",
          "data": {
            "text/plain": [
              "(array([[   0,    0,    0, ..., 3830,    7,  453],\n",
              "        [   0,    0,    0, ...,  486,  197, 1735],\n",
              "        [   0,    0,    0, ..., 2104, 1734, 4066],\n",
              "        ...,\n",
              "        [   0,    0,    0, ...,  268,   10,  832],\n",
              "        [   0,    0,    0, ...,  274,  331,  332],\n",
              "        [   0,    0,    0, ...,  185,   15, 6340]], dtype=int32),\n",
              " array([[   0,    0,    0, ...,  186,   17, 3236],\n",
              "        [   0,    0,    0, ...,  884,  255,  774],\n",
              "        [   0,    0,    0, ...,  249,  356, 2381],\n",
              "        ...,\n",
              "        [   0,    0,    0, ...,  268,   10,  832],\n",
              "        [   0,    0,    0, ...,   38,  122,  248],\n",
              "        [   0,    0,    0, ...,  545,   16, 1089]], dtype=int32),\n",
              " array([19, 57, 59, ..., 49, 65, 19]),\n",
              " array([25, 69, 46, ..., 49, 58,  8]))"
            ]
          },
          "metadata": {
            "tags": []
          },
          "execution_count": 27
        }
      ]
    },
    {
      "cell_type": "code",
      "metadata": {
        "id": "TeZrTkshBaNk",
        "outputId": "5a031216-1190-461d-8347-0fe228ec3b9d",
        "colab": {
          "base_uri": "https://localhost:8080/",
          "height": 102
        }
      },
      "source": [
        "(pd.Series(y_train)).unique()"
      ],
      "execution_count": null,
      "outputs": [
        {
          "output_type": "execute_result",
          "data": {
            "text/plain": [
              "array([19, 57, 59,  4, 22, 60, 31,  8, 28, 48, 33, 61, 23, 26, 62, 30, 54,\n",
              "       47, 43, 56, 72, 65, 73, 41, 14, 29, 25, 55,  2, 71, 36, 21, 17, 66,\n",
              "       34, 53,  5, 37, 15, 38, 24, 39, 20, 45, 11, 18, 12, 69,  7, 35, 27,\n",
              "        6, 63, 16, 42, 70, 50, 67, 52, 49, 44, 13, 40, 32, 46, 10,  0, 64,\n",
              "        9,  1,  3, 51, 58, 68])"
            ]
          },
          "metadata": {
            "tags": []
          },
          "execution_count": 28
        }
      ]
    },
    {
      "cell_type": "code",
      "metadata": {
        "id": "6leC6fDzudb3",
        "outputId": "8ac60fca-fa89-4199-b2bb-6d7e72b126fa",
        "colab": {
          "base_uri": "https://localhost:8080/",
          "height": 357
        }
      },
      "source": [
        "input_layer = Input(shape=(max_len,),dtype=tf.int64)\n",
        "embed = Embedding(numWords+1,output_dim=100,input_length=max_len,weights=[embedding_matrix], trainable=True)(input_layer)  #weights=[embedding_matrix]\n",
        "lstm=Bidirectional(LSTM(128))(embed)\n",
        "drop=Dropout(0.3)(lstm)\n",
        "dense =Dense(100,activation='relu')(drop)\n",
        "out=Dense((len((pd.Series(y_train)).unique())+1),activation='softmax')(dense)   \n",
        "\n",
        "model = Model(input_layer,out)\n",
        "model.compile(loss='sparse_categorical_crossentropy',optimizer=\"adam\",metrics=['accuracy'])\n",
        "\n",
        "model.summary()\n",
        "plot_model(model,to_file=\"LSTM_Model.jpg\")\n",
        "\n",
        "checkpoint = ModelCheckpoint('model-{epoch:03d}-{val_accuracy:03f}.h5', verbose=1, monitor='val_accuracy',save_best_only=True, mode='auto') \n",
        "reduceLoss = ReduceLROnPlateau(monitor='val_loss', factor=0.2,patience=2, min_lr=0.0001)"
      ],
      "execution_count": null,
      "outputs": [
        {
          "output_type": "stream",
          "text": [
            "Model: \"functional_1\"\n",
            "_________________________________________________________________\n",
            "Layer (type)                 Output Shape              Param #   \n",
            "=================================================================\n",
            "input_1 (InputLayer)         [(None, 300)]             0         \n",
            "_________________________________________________________________\n",
            "embedding (Embedding)        (None, 300, 100)          1234400   \n",
            "_________________________________________________________________\n",
            "bidirectional (Bidirectional (None, 256)               234496    \n",
            "_________________________________________________________________\n",
            "dropout (Dropout)            (None, 256)               0         \n",
            "_________________________________________________________________\n",
            "dense (Dense)                (None, 100)               25700     \n",
            "_________________________________________________________________\n",
            "dense_1 (Dense)              (None, 75)                7575      \n",
            "=================================================================\n",
            "Total params: 1,502,171\n",
            "Trainable params: 1,502,171\n",
            "Non-trainable params: 0\n",
            "_________________________________________________________________\n"
          ],
          "name": "stdout"
        }
      ]
    },
    {
      "cell_type": "code",
      "metadata": {
        "id": "dxrS-3fn7Kp1",
        "outputId": "3d4f3ebb-a58a-43a9-f1c2-1dde53464eff",
        "colab": {
          "base_uri": "https://localhost:8080/",
          "height": 1000
        }
      },
      "source": [
        "model_history = model.fit(X_train,y_train,batch_size=batch_size, epochs=epochs, callbacks=[checkpoint,reduceLoss], validation_data=(X_test,y_test))"
      ],
      "execution_count": null,
      "outputs": [
        {
          "output_type": "stream",
          "text": [
            "Epoch 1/20\n",
            "335/335 [==============================] - ETA: 0s - loss: 2.2360 - accuracy: 0.4664\n",
            "Epoch 00001: val_accuracy improved from -inf to 0.73944, saving model to model-001-0.739437.h5\n",
            "335/335 [==============================] - 53s 158ms/step - loss: 2.2360 - accuracy: 0.4664 - val_loss: 0.9867 - val_accuracy: 0.7394\n",
            "Epoch 2/20\n",
            "335/335 [==============================] - ETA: 0s - loss: 0.7398 - accuracy: 0.7978\n",
            "Epoch 00002: val_accuracy improved from 0.73944 to 0.87073, saving model to model-002-0.870731.h5\n",
            "335/335 [==============================] - 52s 155ms/step - loss: 0.7398 - accuracy: 0.7978 - val_loss: 0.4658 - val_accuracy: 0.8707\n",
            "Epoch 3/20\n",
            "335/335 [==============================] - ETA: 0s - loss: 0.4122 - accuracy: 0.8816\n",
            "Epoch 00003: val_accuracy improved from 0.87073 to 0.90307, saving model to model-003-0.903066.h5\n",
            "335/335 [==============================] - 52s 154ms/step - loss: 0.4122 - accuracy: 0.8816 - val_loss: 0.3317 - val_accuracy: 0.9031\n",
            "Epoch 4/20\n",
            "335/335 [==============================] - ETA: 0s - loss: 0.2936 - accuracy: 0.9145\n",
            "Epoch 00004: val_accuracy improved from 0.90307 to 0.92227, saving model to model-004-0.922271.h5\n",
            "335/335 [==============================] - 52s 155ms/step - loss: 0.2936 - accuracy: 0.9145 - val_loss: 0.2671 - val_accuracy: 0.9223\n",
            "Epoch 5/20\n",
            "335/335 [==============================] - ETA: 0s - loss: 0.2245 - accuracy: 0.9335\n",
            "Epoch 00005: val_accuracy improved from 0.92227 to 0.93351, saving model to model-005-0.933515.h5\n",
            "335/335 [==============================] - 52s 155ms/step - loss: 0.2245 - accuracy: 0.9335 - val_loss: 0.2280 - val_accuracy: 0.9335\n",
            "Epoch 6/20\n",
            "335/335 [==============================] - ETA: 0s - loss: 0.1783 - accuracy: 0.9440\n",
            "Epoch 00006: val_accuracy improved from 0.93351 to 0.93931, saving model to model-006-0.939311.h5\n",
            "335/335 [==============================] - 52s 155ms/step - loss: 0.1783 - accuracy: 0.9440 - val_loss: 0.2036 - val_accuracy: 0.9393\n",
            "Epoch 7/20\n",
            "335/335 [==============================] - ETA: 0s - loss: 0.1655 - accuracy: 0.9476\n",
            "Epoch 00007: val_accuracy improved from 0.93931 to 0.94280, saving model to model-007-0.942803.h5\n",
            "335/335 [==============================] - 52s 156ms/step - loss: 0.1655 - accuracy: 0.9476 - val_loss: 0.1921 - val_accuracy: 0.9428\n",
            "Epoch 8/20\n",
            "335/335 [==============================] - ETA: 0s - loss: 0.1464 - accuracy: 0.9526\n",
            "Epoch 00008: val_accuracy did not improve from 0.94280\n",
            "335/335 [==============================] - 52s 155ms/step - loss: 0.1464 - accuracy: 0.9526 - val_loss: 0.1942 - val_accuracy: 0.9427\n",
            "Epoch 9/20\n",
            "335/335 [==============================] - ETA: 0s - loss: 0.1583 - accuracy: 0.9487\n",
            "Epoch 00009: val_accuracy improved from 0.94280 to 0.94364, saving model to model-009-0.943641.h5\n",
            "335/335 [==============================] - 52s 154ms/step - loss: 0.1583 - accuracy: 0.9487 - val_loss: 0.1866 - val_accuracy: 0.9436\n",
            "Epoch 10/20\n",
            "335/335 [==============================] - ETA: 0s - loss: 0.1314 - accuracy: 0.9562\n",
            "Epoch 00010: val_accuracy improved from 0.94364 to 0.94881, saving model to model-010-0.948809.h5\n",
            "335/335 [==============================] - 52s 155ms/step - loss: 0.1314 - accuracy: 0.9562 - val_loss: 0.1746 - val_accuracy: 0.9488\n",
            "Epoch 11/20\n",
            "335/335 [==============================] - ETA: 0s - loss: 0.1284 - accuracy: 0.9568\n",
            "Epoch 00011: val_accuracy did not improve from 0.94881\n",
            "335/335 [==============================] - 52s 154ms/step - loss: 0.1284 - accuracy: 0.9568 - val_loss: 0.1938 - val_accuracy: 0.9421\n",
            "Epoch 12/20\n",
            "335/335 [==============================] - ETA: 0s - loss: 0.1341 - accuracy: 0.9550\n",
            "Epoch 00012: val_accuracy improved from 0.94881 to 0.95063, saving model to model-012-0.950625.h5\n",
            "335/335 [==============================] - 52s 154ms/step - loss: 0.1341 - accuracy: 0.9550 - val_loss: 0.1734 - val_accuracy: 0.9506\n",
            "Epoch 13/20\n",
            "335/335 [==============================] - ETA: 0s - loss: 0.1155 - accuracy: 0.9596\n",
            "Epoch 00013: val_accuracy did not improve from 0.95063\n",
            "335/335 [==============================] - 52s 155ms/step - loss: 0.1155 - accuracy: 0.9596 - val_loss: 0.1742 - val_accuracy: 0.9493\n",
            "Epoch 14/20\n",
            "335/335 [==============================] - ETA: 0s - loss: 0.1131 - accuracy: 0.9601\n",
            "Epoch 00014: val_accuracy did not improve from 0.95063\n",
            "335/335 [==============================] - 52s 155ms/step - loss: 0.1131 - accuracy: 0.9601 - val_loss: 0.1694 - val_accuracy: 0.9499\n",
            "Epoch 15/20\n",
            "335/335 [==============================] - ETA: 0s - loss: 0.1140 - accuracy: 0.9595\n",
            "Epoch 00015: val_accuracy did not improve from 0.95063\n",
            "335/335 [==============================] - 52s 155ms/step - loss: 0.1140 - accuracy: 0.9595 - val_loss: 0.1682 - val_accuracy: 0.9503\n",
            "Epoch 16/20\n",
            "335/335 [==============================] - ETA: 0s - loss: 0.1218 - accuracy: 0.9586\n",
            "Epoch 00016: val_accuracy did not improve from 0.95063\n",
            "335/335 [==============================] - 52s 155ms/step - loss: 0.1218 - accuracy: 0.9586 - val_loss: 0.1848 - val_accuracy: 0.9432\n",
            "Epoch 17/20\n",
            "335/335 [==============================] - ETA: 0s - loss: 0.1144 - accuracy: 0.9596\n",
            "Epoch 00017: val_accuracy did not improve from 0.95063\n",
            "335/335 [==============================] - 52s 154ms/step - loss: 0.1144 - accuracy: 0.9596 - val_loss: 0.1824 - val_accuracy: 0.9472\n",
            "Epoch 18/20\n",
            "335/335 [==============================] - ETA: 0s - loss: 0.1033 - accuracy: 0.9627\n",
            "Epoch 00018: val_accuracy improved from 0.95063 to 0.95167, saving model to model-018-0.951673.h5\n",
            "335/335 [==============================] - 52s 154ms/step - loss: 0.1033 - accuracy: 0.9627 - val_loss: 0.1706 - val_accuracy: 0.9517\n",
            "Epoch 19/20\n",
            "335/335 [==============================] - ETA: 0s - loss: 0.1000 - accuracy: 0.9639\n",
            "Epoch 00019: val_accuracy improved from 0.95167 to 0.95230, saving model to model-019-0.952301.h5\n",
            "335/335 [==============================] - 52s 156ms/step - loss: 0.1000 - accuracy: 0.9639 - val_loss: 0.1715 - val_accuracy: 0.9523\n",
            "Epoch 20/20\n",
            "335/335 [==============================] - ETA: 0s - loss: 0.0983 - accuracy: 0.9641\n",
            "Epoch 00020: val_accuracy did not improve from 0.95230\n",
            "335/335 [==============================] - 52s 155ms/step - loss: 0.0983 - accuracy: 0.9641 - val_loss: 0.1712 - val_accuracy: 0.9517\n"
          ],
          "name": "stdout"
        }
      ]
    },
    {
      "cell_type": "code",
      "metadata": {
        "id": "roIPIyWkRvuM",
        "outputId": "52790d66-1367-4d4a-d104-3cf4fee6a962",
        "colab": {
          "base_uri": "https://localhost:8080/",
          "height": 1000
        }
      },
      "source": [
        "model_history.history"
      ],
      "execution_count": null,
      "outputs": [
        {
          "output_type": "execute_result",
          "data": {
            "text/plain": [
              "{'accuracy': [0.4664032757282257,\n",
              "  0.7977612018585205,\n",
              "  0.8816258311271667,\n",
              "  0.9144592881202698,\n",
              "  0.9334949851036072,\n",
              "  0.9440004825592041,\n",
              "  0.9475621581077576,\n",
              "  0.9526203870773315,\n",
              "  0.9487294554710388,\n",
              "  0.9561821222305298,\n",
              "  0.9568106532096863,\n",
              "  0.954954981803894,\n",
              "  0.959564208984375,\n",
              "  0.960132896900177,\n",
              "  0.9595342874526978,\n",
              "  0.9586364030838013,\n",
              "  0.9595941305160522,\n",
              "  0.9627068638801575,\n",
              "  0.9638741612434387,\n",
              "  0.964053750038147],\n",
              " 'loss': [2.2359540462493896,\n",
              "  0.7397763133049011,\n",
              "  0.41216108202934265,\n",
              "  0.29358407855033875,\n",
              "  0.22449137270450592,\n",
              "  0.17827092111110687,\n",
              "  0.16552875936031342,\n",
              "  0.14641068875789642,\n",
              "  0.15829575061798096,\n",
              "  0.13140864670276642,\n",
              "  0.1283869594335556,\n",
              "  0.1341395229101181,\n",
              "  0.11548574268817902,\n",
              "  0.1131054013967514,\n",
              "  0.11396469920873642,\n",
              "  0.12180689722299576,\n",
              "  0.11441158503293991,\n",
              "  0.10333696007728577,\n",
              "  0.09995698928833008,\n",
              "  0.09833459556102753],\n",
              " 'lr': [0.001,\n",
              "  0.001,\n",
              "  0.001,\n",
              "  0.001,\n",
              "  0.001,\n",
              "  0.001,\n",
              "  0.001,\n",
              "  0.001,\n",
              "  0.001,\n",
              "  0.001,\n",
              "  0.001,\n",
              "  0.001,\n",
              "  0.001,\n",
              "  0.001,\n",
              "  0.001,\n",
              "  0.001,\n",
              "  0.001,\n",
              "  0.00020000001,\n",
              "  0.00020000001,\n",
              "  1e-04],\n",
              " 'val_accuracy': [0.7394371032714844,\n",
              "  0.8707311749458313,\n",
              "  0.9030658602714539,\n",
              "  0.9222711324691772,\n",
              "  0.9335148930549622,\n",
              "  0.9393113851547241,\n",
              "  0.9428032636642456,\n",
              "  0.9427334070205688,\n",
              "  0.9436413049697876,\n",
              "  0.9488092660903931,\n",
              "  0.9421048760414124,\n",
              "  0.9506250619888306,\n",
              "  0.9492981433868408,\n",
              "  0.9498568177223206,\n",
              "  0.9503456950187683,\n",
              "  0.9431524276733398,\n",
              "  0.9472030401229858,\n",
              "  0.9516726136207581,\n",
              "  0.9523011445999146,\n",
              "  0.9516726136207581],\n",
              " 'val_loss': [0.9867441058158875,\n",
              "  0.4657936692237854,\n",
              "  0.3317343592643738,\n",
              "  0.26708289980888367,\n",
              "  0.22798725962638855,\n",
              "  0.20359133183956146,\n",
              "  0.19214698672294617,\n",
              "  0.19424450397491455,\n",
              "  0.1866476833820343,\n",
              "  0.17458130419254303,\n",
              "  0.19380584359169006,\n",
              "  0.1734159141778946,\n",
              "  0.17415845394134521,\n",
              "  0.1694481521844864,\n",
              "  0.16820792853832245,\n",
              "  0.18478618562221527,\n",
              "  0.18240271508693695,\n",
              "  0.17064717411994934,\n",
              "  0.17150895297527313,\n",
              "  0.1711703985929489]}"
            ]
          },
          "metadata": {
            "tags": []
          },
          "execution_count": 31
        }
      ]
    },
    {
      "cell_type": "code",
      "metadata": {
        "id": "oF3cnBr9VF_o",
        "outputId": "f3b39cd0-f984-47bb-bd6c-789bc55d488b",
        "colab": {
          "base_uri": "https://localhost:8080/",
          "height": 295
        }
      },
      "source": [
        "# Plotting losses\n",
        "loss_values = model_history.history['loss']\n",
        "val_loss_values = model_history.history['val_loss']\n",
        "\n",
        "epochs = range(1, len(loss_values) + 1)\n",
        "\n",
        "plt.plot(epochs, loss_values, 'bo', label=\"Training Loss\")\n",
        "plt.plot(epochs, val_loss_values, 'b', label=\"Validation Loss\")\n",
        "\n",
        "plt.title('LSTM on sampled data - Training and Validation Loss')\n",
        "plt.xlabel('Epochs')\n",
        "plt.ylabel('Loss Value')\n",
        "plt.legend()\n",
        "\n",
        "plt.show()"
      ],
      "execution_count": null,
      "outputs": [
        {
          "output_type": "display_data",
          "data": {
            "image/png": "[encoded data removed]",
            "text/plain": [
              "<Figure size 432x288 with 1 Axes>"
            ]
          },
          "metadata": {
            "tags": [],
            "needs_background": "light"
          }
        }
      ]
    },
    {
      "cell_type": "code",
      "metadata": {
        "id": "Pn7-u41URKxq",
        "outputId": "09aa4838-9b0f-4099-cfd7-d87c7496a139",
        "colab": {
          "base_uri": "https://localhost:8080/",
          "height": 295
        }
      },
      "source": [
        "# Training and Validation Accuracy\n",
        "\n",
        "acc_values = model_history.history['accuracy']\n",
        "val_acc_values = model_history.history['val_accuracy']\n",
        "\n",
        "epochs = range(1, len(loss_values) + 1)\n",
        "\n",
        "plt.plot(epochs, acc_values, 'ro', label=\"Training Accuracy\")\n",
        "plt.plot(epochs, val_acc_values, 'r', label=\"Validation Accuracy\")\n",
        "\n",
        "plt.title('LSTM on sampled data - Training and Validation Accuraccy')\n",
        "plt.xlabel('Epochs')\n",
        "plt.ylabel('Accuracy')\n",
        "plt.legend()\n",
        "\n",
        "plt.show()"
      ],
      "execution_count": null,
      "outputs": [
        {
          "output_type": "display_data",
          "data": {
            "image/png": "[encoded data removed]",
            "text/plain": [
              "<Figure size 432x288 with 1 Axes>"
            ]
          },
          "metadata": {
            "tags": [],
            "needs_background": "light"
          }
        }
      ]
    },
    {
      "cell_type": "code",
      "metadata": {
        "id": "pnbwRktGU7mG"
      },
      "source": [
        ""
      ],
      "execution_count": null,
      "outputs": []
    }
  ]
}