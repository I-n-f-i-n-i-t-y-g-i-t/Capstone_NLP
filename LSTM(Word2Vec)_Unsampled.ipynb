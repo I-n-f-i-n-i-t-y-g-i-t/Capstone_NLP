{
  "nbformat": 4,
  "nbformat_minor": 0,
  "metadata": {
    "colab": {
      "name": "LSTM(Word2Vec)-Unsampled.ipynb",
      "provenance": [],
      "collapsed_sections": []
    },
    "kernelspec": {
      "name": "python3",
      "display_name": "Python 3"
    }
  },
  "cells": [
    {
      "cell_type": "code",
      "metadata": {
        "id": "uAmEZDAKqFvj",
        "outputId": "3c47bddf-5796-43d9-ba0d-ba9b84b9d94d",
        "colab": {
          "base_uri": "https://localhost:8080/",
          "height": 34
        }
      },
      "source": [
        "from google.colab import drive\n",
        "drive.mount('/content/drive')"
      ],
      "execution_count": 1,
      "outputs": [
        {
          "output_type": "stream",
          "text": [
            "Mounted at /content/drive\n"
          ],
          "name": "stdout"
        }
      ]
    },
    {
      "cell_type": "code",
      "metadata": {
        "id": "hNt07qLcqIqv"
      },
      "source": [
        "import pandas as pd\n",
        "import numpy as np\n",
        "import matplotlib.pyplot as plt\n",
        "from IPython.display import display\n",
        "pd.options.display.max_columns = None\n",
        "pd.options.display.max_rows = None"
      ],
      "execution_count": 28,
      "outputs": []
    },
    {
      "cell_type": "code",
      "metadata": {
        "id": "2pZQtLC-qVCF"
      },
      "source": [
        "# Reading the dataset\n",
        "\n",
        "project_path = '/content/drive/My Drive/Colab/'\n",
        "file_name ='TempOutput_1.xlsx'"
      ],
      "execution_count": 29,
      "outputs": []
    },
    {
      "cell_type": "code",
      "metadata": {
        "id": "67ED6lNRqcaS"
      },
      "source": [
        "df_to_process=pd.read_excel(project_path+file_name)"
      ],
      "execution_count": 30,
      "outputs": []
    },
    {
      "cell_type": "code",
      "metadata": {
        "id": "HyGpHgx4q6ez",
        "outputId": "928c86b9-b2e3-4fbb-ecf4-aec7fe771381",
        "colab": {
          "base_uri": "https://localhost:8080/",
          "height": 255
        }
      },
      "source": [
        "df_to_process.info()"
      ],
      "execution_count": 31,
      "outputs": [
        {
          "output_type": "stream",
          "text": [
            "<class 'pandas.core.frame.DataFrame'>\n",
            "RangeIndex: 7909 entries, 0 to 7908\n",
            "Data columns (total 7 columns):\n",
            " #   Column             Non-Null Count  Dtype \n",
            "---  ------             --------------  ----- \n",
            " 0   Unnamed: 0         7909 non-null   int64 \n",
            " 1   Short description  7909 non-null   object\n",
            " 2   Description        7906 non-null   object\n",
            " 3   Assignment group   7909 non-null   object\n",
            " 4   New Description    7876 non-null   object\n",
            " 5   Language           7909 non-null   object\n",
            " 6   Lemmatized clean   7909 non-null   object\n",
            "dtypes: int64(1), object(6)\n",
            "memory usage: 432.6+ KB\n"
          ],
          "name": "stdout"
        }
      ]
    },
    {
      "cell_type": "code",
      "metadata": {
        "id": "qFenneLtq7cc"
      },
      "source": [
        "df_to_process.drop([\"Unnamed: 0\",\"Short description\", \"Description\", \"Language\"],axis=1,inplace=True)"
      ],
      "execution_count": 32,
      "outputs": []
    },
    {
      "cell_type": "code",
      "metadata": {
        "id": "2tUdpw0Vq-wI",
        "outputId": "5301c3e2-380e-44a6-f104-03277c10331c",
        "colab": {
          "base_uri": "https://localhost:8080/",
          "height": 204
        }
      },
      "source": [
        "df_to_process.head(5)"
      ],
      "execution_count": 33,
      "outputs": [
        {
          "output_type": "execute_result",
          "data": {
            "text/html": [
              "<div>\n",
              "<style scoped>\n",
              "    .dataframe tbody tr th:only-of-type {\n",
              "        vertical-align: middle;\n",
              "    }\n",
              "\n",
              "    .dataframe tbody tr th {\n",
              "        vertical-align: top;\n",
              "    }\n",
              "\n",
              "    .dataframe thead th {\n",
              "        text-align: right;\n",
              "    }\n",
              "</style>\n",
              "<table border=\"1\" class=\"dataframe\">\n",
              "  <thead>\n",
              "    <tr style=\"text-align: right;\">\n",
              "      <th></th>\n",
              "      <th>Assignment group</th>\n",
              "      <th>New Description</th>\n",
              "      <th>Lemmatized clean</th>\n",
              "    </tr>\n",
              "  </thead>\n",
              "  <tbody>\n",
              "    <tr>\n",
              "      <th>0</th>\n",
              "      <td>GRP_0</td>\n",
              "      <td>login issue verified user details employee man...</td>\n",
              "      <td>['login', 'issue', 'verify', 'user', 'detail',...</td>\n",
              "    </tr>\n",
              "    <tr>\n",
              "      <th>1</th>\n",
              "      <td>GRP_0</td>\n",
              "      <td>outlook received from hmjdrvpb komuaywn team m...</td>\n",
              "      <td>['outlook', 'receive', 'hmjdrvpb', 'komuaywn',...</td>\n",
              "    </tr>\n",
              "    <tr>\n",
              "      <th>2</th>\n",
              "      <td>GRP_0</td>\n",
              "      <td>cannot log in to vpn received from eylqgodm yb...</td>\n",
              "      <td>['log', 'vpn', 'receive', 'eylqgodm', 'ybqkwia...</td>\n",
              "    </tr>\n",
              "    <tr>\n",
              "      <th>3</th>\n",
              "      <td>GRP_0</td>\n",
              "      <td>unable to access hr tool page unable to access...</td>\n",
              "      <td>['unable', 'access', 'hr', 'tool', 'page', 'un...</td>\n",
              "    </tr>\n",
              "    <tr>\n",
              "      <th>4</th>\n",
              "      <td>GRP_0</td>\n",
              "      <td>skype error skype error</td>\n",
              "      <td>['skype', 'error', 'skype', 'error']</td>\n",
              "    </tr>\n",
              "  </tbody>\n",
              "</table>\n",
              "</div>"
            ],
            "text/plain": [
              "  Assignment group                                    New Description  \\\n",
              "0            GRP_0  login issue verified user details employee man...   \n",
              "1            GRP_0  outlook received from hmjdrvpb komuaywn team m...   \n",
              "2            GRP_0  cannot log in to vpn received from eylqgodm yb...   \n",
              "3            GRP_0  unable to access hr tool page unable to access...   \n",
              "4            GRP_0                            skype error skype error   \n",
              "\n",
              "                                    Lemmatized clean  \n",
              "0  ['login', 'issue', 'verify', 'user', 'detail',...  \n",
              "1  ['outlook', 'receive', 'hmjdrvpb', 'komuaywn',...  \n",
              "2  ['log', 'vpn', 'receive', 'eylqgodm', 'ybqkwia...  \n",
              "3  ['unable', 'access', 'hr', 'tool', 'page', 'un...  \n",
              "4               ['skype', 'error', 'skype', 'error']  "
            ]
          },
          "metadata": {
            "tags": []
          },
          "execution_count": 33
        }
      ]
    },
    {
      "cell_type": "code",
      "metadata": {
        "id": "4D8unQkwtoGT",
        "outputId": "92dc9702-b279-4ce9-c12f-8a0a6b3ca517",
        "colab": {
          "base_uri": "https://localhost:8080/",
          "height": 102
        }
      },
      "source": [
        "from sklearn import preprocessing \n",
        "  \n",
        "label_encoder = preprocessing.LabelEncoder() \n",
        "  \n",
        "df_to_process['Assignment group ID']= label_encoder.fit_transform(df_to_process['Assignment group']) \n",
        "df_to_process['Assignment group ID'].unique()"
      ],
      "execution_count": 34,
      "outputs": [
        {
          "output_type": "execute_result",
          "data": {
            "text/plain": [
              "array([ 0,  1, 23, 34, 45, 56, 67, 72, 73,  2,  3,  4,  5,  6,  7,  8,  9,\n",
              "       10, 11, 12, 13, 14, 15, 16, 17, 18, 19, 20, 21, 22, 24, 25, 27, 28,\n",
              "       29, 30, 31, 32, 33, 35, 36, 37, 38, 39, 40, 41, 42, 43, 44, 46, 47,\n",
              "       48, 49, 50, 51, 52, 53, 54, 55, 57, 58, 26, 59, 60, 61, 62, 63, 64,\n",
              "       65, 66, 68, 69, 70, 71])"
            ]
          },
          "metadata": {
            "tags": []
          },
          "execution_count": 34
        }
      ]
    },
    {
      "cell_type": "code",
      "metadata": {
        "id": "hqlsXjHtuBBe"
      },
      "source": [
        "# Import the necessary libraries for modelling and plotting acuracy\n",
        "from gensim.models import Word2Vec\n",
        "from tensorflow.keras.layers import Input, Embedding, Bidirectional, LSTM, Dropout, Dense, Activation\n",
        "\n",
        "from tensorflow.keras.models import Model, Sequential\n",
        "import tensorflow as tf\n",
        "from tensorflow.keras.utils import plot_model\n",
        "from keras.preprocessing.text import Tokenizer\n",
        "# import the train test split package from scikit learn\n",
        "from sklearn.model_selection import train_test_split\n",
        "from tensorflow.keras.callbacks import ModelCheckpoint, ReduceLROnPlateau"
      ],
      "execution_count": 35,
      "outputs": []
    },
    {
      "cell_type": "code",
      "metadata": {
        "id": "uuCt1kzvwqgs",
        "outputId": "b5fe1c01-ae71-4c58-83c9-7845ce88b5d8",
        "colab": {
          "base_uri": "https://localhost:8080/",
          "height": 204
        }
      },
      "source": [
        "df_to_process.head(5)"
      ],
      "execution_count": 36,
      "outputs": [
        {
          "output_type": "execute_result",
          "data": {
            "text/html": [
              "<div>\n",
              "<style scoped>\n",
              "    .dataframe tbody tr th:only-of-type {\n",
              "        vertical-align: middle;\n",
              "    }\n",
              "\n",
              "    .dataframe tbody tr th {\n",
              "        vertical-align: top;\n",
              "    }\n",
              "\n",
              "    .dataframe thead th {\n",
              "        text-align: right;\n",
              "    }\n",
              "</style>\n",
              "<table border=\"1\" class=\"dataframe\">\n",
              "  <thead>\n",
              "    <tr style=\"text-align: right;\">\n",
              "      <th></th>\n",
              "      <th>Assignment group</th>\n",
              "      <th>New Description</th>\n",
              "      <th>Lemmatized clean</th>\n",
              "      <th>Assignment group ID</th>\n",
              "    </tr>\n",
              "  </thead>\n",
              "  <tbody>\n",
              "    <tr>\n",
              "      <th>0</th>\n",
              "      <td>GRP_0</td>\n",
              "      <td>login issue verified user details employee man...</td>\n",
              "      <td>['login', 'issue', 'verify', 'user', 'detail',...</td>\n",
              "      <td>0</td>\n",
              "    </tr>\n",
              "    <tr>\n",
              "      <th>1</th>\n",
              "      <td>GRP_0</td>\n",
              "      <td>outlook received from hmjdrvpb komuaywn team m...</td>\n",
              "      <td>['outlook', 'receive', 'hmjdrvpb', 'komuaywn',...</td>\n",
              "      <td>0</td>\n",
              "    </tr>\n",
              "    <tr>\n",
              "      <th>2</th>\n",
              "      <td>GRP_0</td>\n",
              "      <td>cannot log in to vpn received from eylqgodm yb...</td>\n",
              "      <td>['log', 'vpn', 'receive', 'eylqgodm', 'ybqkwia...</td>\n",
              "      <td>0</td>\n",
              "    </tr>\n",
              "    <tr>\n",
              "      <th>3</th>\n",
              "      <td>GRP_0</td>\n",
              "      <td>unable to access hr tool page unable to access...</td>\n",
              "      <td>['unable', 'access', 'hr', 'tool', 'page', 'un...</td>\n",
              "      <td>0</td>\n",
              "    </tr>\n",
              "    <tr>\n",
              "      <th>4</th>\n",
              "      <td>GRP_0</td>\n",
              "      <td>skype error skype error</td>\n",
              "      <td>['skype', 'error', 'skype', 'error']</td>\n",
              "      <td>0</td>\n",
              "    </tr>\n",
              "  </tbody>\n",
              "</table>\n",
              "</div>"
            ],
            "text/plain": [
              "  Assignment group                                    New Description  \\\n",
              "0            GRP_0  login issue verified user details employee man...   \n",
              "1            GRP_0  outlook received from hmjdrvpb komuaywn team m...   \n",
              "2            GRP_0  cannot log in to vpn received from eylqgodm yb...   \n",
              "3            GRP_0  unable to access hr tool page unable to access...   \n",
              "4            GRP_0                            skype error skype error   \n",
              "\n",
              "                                    Lemmatized clean  Assignment group ID  \n",
              "0  ['login', 'issue', 'verify', 'user', 'detail',...                    0  \n",
              "1  ['outlook', 'receive', 'hmjdrvpb', 'komuaywn',...                    0  \n",
              "2  ['log', 'vpn', 'receive', 'eylqgodm', 'ybqkwia...                    0  \n",
              "3  ['unable', 'access', 'hr', 'tool', 'page', 'un...                    0  \n",
              "4               ['skype', 'error', 'skype', 'error']                    0  "
            ]
          },
          "metadata": {
            "tags": []
          },
          "execution_count": 36
        }
      ]
    },
    {
      "cell_type": "code",
      "metadata": {
        "id": "6GtoBb4m7tar",
        "outputId": "87f798e4-7a5b-4617-8134-a0ce4329d210",
        "colab": {
          "base_uri": "https://localhost:8080/",
          "height": 1000
        }
      },
      "source": [
        "df_to_process.isnull().sum()\n",
        "df_to_process[df_to_process.isnull().any(axis=1)]"
      ],
      "execution_count": 37,
      "outputs": [
        {
          "output_type": "execute_result",
          "data": {
            "text/html": [
              "<div>\n",
              "<style scoped>\n",
              "    .dataframe tbody tr th:only-of-type {\n",
              "        vertical-align: middle;\n",
              "    }\n",
              "\n",
              "    .dataframe tbody tr th {\n",
              "        vertical-align: top;\n",
              "    }\n",
              "\n",
              "    .dataframe thead th {\n",
              "        text-align: right;\n",
              "    }\n",
              "</style>\n",
              "<table border=\"1\" class=\"dataframe\">\n",
              "  <thead>\n",
              "    <tr style=\"text-align: right;\">\n",
              "      <th></th>\n",
              "      <th>Assignment group</th>\n",
              "      <th>New Description</th>\n",
              "      <th>Lemmatized clean</th>\n",
              "      <th>Assignment group ID</th>\n",
              "    </tr>\n",
              "  </thead>\n",
              "  <tbody>\n",
              "    <tr>\n",
              "      <th>1038</th>\n",
              "      <td>GRP_48</td>\n",
              "      <td>NaN</td>\n",
              "      <td>[]</td>\n",
              "      <td>43</td>\n",
              "    </tr>\n",
              "    <tr>\n",
              "      <th>1127</th>\n",
              "      <td>GRP_30</td>\n",
              "      <td>NaN</td>\n",
              "      <td>[]</td>\n",
              "      <td>24</td>\n",
              "    </tr>\n",
              "    <tr>\n",
              "      <th>1386</th>\n",
              "      <td>GRP_30</td>\n",
              "      <td>NaN</td>\n",
              "      <td>[]</td>\n",
              "      <td>24</td>\n",
              "    </tr>\n",
              "    <tr>\n",
              "      <th>1621</th>\n",
              "      <td>GRP_48</td>\n",
              "      <td>NaN</td>\n",
              "      <td>[]</td>\n",
              "      <td>43</td>\n",
              "    </tr>\n",
              "    <tr>\n",
              "      <th>1622</th>\n",
              "      <td>GRP_48</td>\n",
              "      <td>NaN</td>\n",
              "      <td>[]</td>\n",
              "      <td>43</td>\n",
              "    </tr>\n",
              "    <tr>\n",
              "      <th>1625</th>\n",
              "      <td>GRP_48</td>\n",
              "      <td>NaN</td>\n",
              "      <td>[]</td>\n",
              "      <td>43</td>\n",
              "    </tr>\n",
              "    <tr>\n",
              "      <th>1631</th>\n",
              "      <td>GRP_48</td>\n",
              "      <td>NaN</td>\n",
              "      <td>[]</td>\n",
              "      <td>43</td>\n",
              "    </tr>\n",
              "    <tr>\n",
              "      <th>1860</th>\n",
              "      <td>GRP_30</td>\n",
              "      <td>NaN</td>\n",
              "      <td>[]</td>\n",
              "      <td>24</td>\n",
              "    </tr>\n",
              "    <tr>\n",
              "      <th>1861</th>\n",
              "      <td>GRP_30</td>\n",
              "      <td>NaN</td>\n",
              "      <td>[]</td>\n",
              "      <td>24</td>\n",
              "    </tr>\n",
              "    <tr>\n",
              "      <th>1906</th>\n",
              "      <td>GRP_31</td>\n",
              "      <td>NaN</td>\n",
              "      <td>[]</td>\n",
              "      <td>25</td>\n",
              "    </tr>\n",
              "    <tr>\n",
              "      <th>2951</th>\n",
              "      <td>GRP_30</td>\n",
              "      <td>NaN</td>\n",
              "      <td>[]</td>\n",
              "      <td>24</td>\n",
              "    </tr>\n",
              "    <tr>\n",
              "      <th>2966</th>\n",
              "      <td>GRP_30</td>\n",
              "      <td>NaN</td>\n",
              "      <td>[]</td>\n",
              "      <td>24</td>\n",
              "    </tr>\n",
              "    <tr>\n",
              "      <th>3138</th>\n",
              "      <td>GRP_31</td>\n",
              "      <td>NaN</td>\n",
              "      <td>[]</td>\n",
              "      <td>25</td>\n",
              "    </tr>\n",
              "    <tr>\n",
              "      <th>3529</th>\n",
              "      <td>GRP_48</td>\n",
              "      <td>NaN</td>\n",
              "      <td>[]</td>\n",
              "      <td>43</td>\n",
              "    </tr>\n",
              "    <tr>\n",
              "      <th>3683</th>\n",
              "      <td>GRP_30</td>\n",
              "      <td>NaN</td>\n",
              "      <td>[]</td>\n",
              "      <td>24</td>\n",
              "    </tr>\n",
              "    <tr>\n",
              "      <th>3857</th>\n",
              "      <td>GRP_30</td>\n",
              "      <td>NaN</td>\n",
              "      <td>[]</td>\n",
              "      <td>24</td>\n",
              "    </tr>\n",
              "    <tr>\n",
              "      <th>4231</th>\n",
              "      <td>GRP_48</td>\n",
              "      <td>NaN</td>\n",
              "      <td>[]</td>\n",
              "      <td>43</td>\n",
              "    </tr>\n",
              "    <tr>\n",
              "      <th>4232</th>\n",
              "      <td>GRP_48</td>\n",
              "      <td>NaN</td>\n",
              "      <td>[]</td>\n",
              "      <td>43</td>\n",
              "    </tr>\n",
              "    <tr>\n",
              "      <th>4233</th>\n",
              "      <td>GRP_48</td>\n",
              "      <td>NaN</td>\n",
              "      <td>[]</td>\n",
              "      <td>43</td>\n",
              "    </tr>\n",
              "    <tr>\n",
              "      <th>4822</th>\n",
              "      <td>GRP_48</td>\n",
              "      <td>NaN</td>\n",
              "      <td>[]</td>\n",
              "      <td>43</td>\n",
              "    </tr>\n",
              "    <tr>\n",
              "      <th>4824</th>\n",
              "      <td>GRP_30</td>\n",
              "      <td>NaN</td>\n",
              "      <td>[]</td>\n",
              "      <td>24</td>\n",
              "    </tr>\n",
              "    <tr>\n",
              "      <th>4960</th>\n",
              "      <td>GRP_30</td>\n",
              "      <td>NaN</td>\n",
              "      <td>[]</td>\n",
              "      <td>24</td>\n",
              "    </tr>\n",
              "    <tr>\n",
              "      <th>4968</th>\n",
              "      <td>GRP_31</td>\n",
              "      <td>NaN</td>\n",
              "      <td>[]</td>\n",
              "      <td>25</td>\n",
              "    </tr>\n",
              "    <tr>\n",
              "      <th>5384</th>\n",
              "      <td>GRP_48</td>\n",
              "      <td>NaN</td>\n",
              "      <td>[]</td>\n",
              "      <td>43</td>\n",
              "    </tr>\n",
              "    <tr>\n",
              "      <th>5522</th>\n",
              "      <td>GRP_30</td>\n",
              "      <td>NaN</td>\n",
              "      <td>[]</td>\n",
              "      <td>24</td>\n",
              "    </tr>\n",
              "    <tr>\n",
              "      <th>5698</th>\n",
              "      <td>GRP_30</td>\n",
              "      <td>NaN</td>\n",
              "      <td>[]</td>\n",
              "      <td>24</td>\n",
              "    </tr>\n",
              "    <tr>\n",
              "      <th>6092</th>\n",
              "      <td>GRP_48</td>\n",
              "      <td>NaN</td>\n",
              "      <td>[]</td>\n",
              "      <td>43</td>\n",
              "    </tr>\n",
              "    <tr>\n",
              "      <th>6093</th>\n",
              "      <td>GRP_48</td>\n",
              "      <td>NaN</td>\n",
              "      <td>[]</td>\n",
              "      <td>43</td>\n",
              "    </tr>\n",
              "    <tr>\n",
              "      <th>6806</th>\n",
              "      <td>GRP_30</td>\n",
              "      <td>NaN</td>\n",
              "      <td>[]</td>\n",
              "      <td>24</td>\n",
              "    </tr>\n",
              "    <tr>\n",
              "      <th>6811</th>\n",
              "      <td>GRP_48</td>\n",
              "      <td>NaN</td>\n",
              "      <td>[]</td>\n",
              "      <td>43</td>\n",
              "    </tr>\n",
              "    <tr>\n",
              "      <th>6814</th>\n",
              "      <td>GRP_48</td>\n",
              "      <td>NaN</td>\n",
              "      <td>[]</td>\n",
              "      <td>43</td>\n",
              "    </tr>\n",
              "    <tr>\n",
              "      <th>7062</th>\n",
              "      <td>GRP_30</td>\n",
              "      <td>NaN</td>\n",
              "      <td>[]</td>\n",
              "      <td>24</td>\n",
              "    </tr>\n",
              "    <tr>\n",
              "      <th>7416</th>\n",
              "      <td>GRP_48</td>\n",
              "      <td>NaN</td>\n",
              "      <td>[]</td>\n",
              "      <td>43</td>\n",
              "    </tr>\n",
              "  </tbody>\n",
              "</table>\n",
              "</div>"
            ],
            "text/plain": [
              "     Assignment group New Description Lemmatized clean  Assignment group ID\n",
              "1038           GRP_48             NaN               []                   43\n",
              "1127           GRP_30             NaN               []                   24\n",
              "1386           GRP_30             NaN               []                   24\n",
              "1621           GRP_48             NaN               []                   43\n",
              "1622           GRP_48             NaN               []                   43\n",
              "1625           GRP_48             NaN               []                   43\n",
              "1631           GRP_48             NaN               []                   43\n",
              "1860           GRP_30             NaN               []                   24\n",
              "1861           GRP_30             NaN               []                   24\n",
              "1906           GRP_31             NaN               []                   25\n",
              "2951           GRP_30             NaN               []                   24\n",
              "2966           GRP_30             NaN               []                   24\n",
              "3138           GRP_31             NaN               []                   25\n",
              "3529           GRP_48             NaN               []                   43\n",
              "3683           GRP_30             NaN               []                   24\n",
              "3857           GRP_30             NaN               []                   24\n",
              "4231           GRP_48             NaN               []                   43\n",
              "4232           GRP_48             NaN               []                   43\n",
              "4233           GRP_48             NaN               []                   43\n",
              "4822           GRP_48             NaN               []                   43\n",
              "4824           GRP_30             NaN               []                   24\n",
              "4960           GRP_30             NaN               []                   24\n",
              "4968           GRP_31             NaN               []                   25\n",
              "5384           GRP_48             NaN               []                   43\n",
              "5522           GRP_30             NaN               []                   24\n",
              "5698           GRP_30             NaN               []                   24\n",
              "6092           GRP_48             NaN               []                   43\n",
              "6093           GRP_48             NaN               []                   43\n",
              "6806           GRP_30             NaN               []                   24\n",
              "6811           GRP_48             NaN               []                   43\n",
              "6814           GRP_48             NaN               []                   43\n",
              "7062           GRP_30             NaN               []                   24\n",
              "7416           GRP_48             NaN               []                   43"
            ]
          },
          "metadata": {
            "tags": []
          },
          "execution_count": 37
        }
      ]
    },
    {
      "cell_type": "code",
      "metadata": {
        "id": "nNVuQTeO8rEY"
      },
      "source": [
        "df_to_process = df_to_process.dropna(axis=0)"
      ],
      "execution_count": 38,
      "outputs": []
    },
    {
      "cell_type": "code",
      "metadata": {
        "id": "UPKUVXNZ-4tX"
      },
      "source": [
        "def wordTokenizer(dataframe):\n",
        "    tokenizer = Tokenizer(num_words=numWords,filters='!\"#$%&()*+,-./:;<=>?@[\\\\]^_`{|}~\\t\\n',lower=True,split=' ', char_level=False)\n",
        "    tokenizer.fit_on_texts(dataframe)\n",
        "    dataframe = tokenizer.texts_to_sequences(dataframe)\n",
        "    return tokenizer,dataframe"
      ],
      "execution_count": 39,
      "outputs": []
    },
    {
      "cell_type": "code",
      "metadata": {
        "id": "ondqXRiHuD20",
        "outputId": "6e428b77-2329-419e-bf66-054fcc6ae87f",
        "colab": {
          "base_uri": "https://localhost:8080/",
          "height": 71
        }
      },
      "source": [
        "# Word2Vec the dataframe and store the embedding result\n",
        "sentences = [line.split(' ') for line in df_to_process['New Description']] \n",
        "word2vec = Word2Vec(sentences=sentences,min_count=1)\n",
        "word2vec.wv.save_word2vec_format(project_path+'word2vec.txt')"
      ],
      "execution_count": 40,
      "outputs": [
        {
          "output_type": "stream",
          "text": [
            "/usr/local/lib/python3.6/dist-packages/smart_open/smart_open_lib.py:252: UserWarning: This function is deprecated, use smart_open.open instead. See the migration notes for details: https://github.com/RaRe-Technologies/smart_open/blob/master/README.rst#migrating-to-the-new-open-function\n",
            "  'See the migration notes for details: %s' % _MIGRATION_NOTES_URL\n"
          ],
          "name": "stderr"
        }
      ]
    },
    {
      "cell_type": "code",
      "metadata": {
        "id": "5XFRJImZuEob",
        "outputId": "d7af281e-3251-48b8-ac76-097573f4321b",
        "colab": {
          "base_uri": "https://localhost:8080/",
          "height": 34
        }
      },
      "source": [
        "# Load the embedding into memory\n",
        "embedding_indices = dict()\n",
        "f = open(project_path+'word2vec.txt')\n",
        "\n",
        "for line in f:\n",
        "  values = line.split()\n",
        "  word = values[0]\n",
        "  coeff = np.array(values[1:], dtype='float32')\n",
        "  embedding_indices[word] = coeff\n",
        "f.close()\n",
        "\n",
        "len(embedding_indices)"
      ],
      "execution_count": 41,
      "outputs": [
        {
          "output_type": "execute_result",
          "data": {
            "text/plain": [
              "15389"
            ]
          },
          "metadata": {
            "tags": []
          },
          "execution_count": 41
        }
      ]
    },
    {
      "cell_type": "code",
      "metadata": {
        "id": "S-AqksO56pVP"
      },
      "source": [
        "results = pd.DataFrame()\n",
        "predictedResults = pd.DataFrame()"
      ],
      "execution_count": 42,
      "outputs": []
    },
    {
      "cell_type": "code",
      "metadata": {
        "id": "eum7UwuF6r0H",
        "outputId": "0dd82f31-a472-4aa8-984e-f07b387a1a06",
        "colab": {
          "base_uri": "https://localhost:8080/",
          "height": 204
        }
      },
      "source": [
        "df_to_process.head(5)"
      ],
      "execution_count": 43,
      "outputs": [
        {
          "output_type": "execute_result",
          "data": {
            "text/html": [
              "<div>\n",
              "<style scoped>\n",
              "    .dataframe tbody tr th:only-of-type {\n",
              "        vertical-align: middle;\n",
              "    }\n",
              "\n",
              "    .dataframe tbody tr th {\n",
              "        vertical-align: top;\n",
              "    }\n",
              "\n",
              "    .dataframe thead th {\n",
              "        text-align: right;\n",
              "    }\n",
              "</style>\n",
              "<table border=\"1\" class=\"dataframe\">\n",
              "  <thead>\n",
              "    <tr style=\"text-align: right;\">\n",
              "      <th></th>\n",
              "      <th>Assignment group</th>\n",
              "      <th>New Description</th>\n",
              "      <th>Lemmatized clean</th>\n",
              "      <th>Assignment group ID</th>\n",
              "    </tr>\n",
              "  </thead>\n",
              "  <tbody>\n",
              "    <tr>\n",
              "      <th>0</th>\n",
              "      <td>GRP_0</td>\n",
              "      <td>login issue verified user details employee man...</td>\n",
              "      <td>['login', 'issue', 'verify', 'user', 'detail',...</td>\n",
              "      <td>0</td>\n",
              "    </tr>\n",
              "    <tr>\n",
              "      <th>1</th>\n",
              "      <td>GRP_0</td>\n",
              "      <td>outlook received from hmjdrvpb komuaywn team m...</td>\n",
              "      <td>['outlook', 'receive', 'hmjdrvpb', 'komuaywn',...</td>\n",
              "      <td>0</td>\n",
              "    </tr>\n",
              "    <tr>\n",
              "      <th>2</th>\n",
              "      <td>GRP_0</td>\n",
              "      <td>cannot log in to vpn received from eylqgodm yb...</td>\n",
              "      <td>['log', 'vpn', 'receive', 'eylqgodm', 'ybqkwia...</td>\n",
              "      <td>0</td>\n",
              "    </tr>\n",
              "    <tr>\n",
              "      <th>3</th>\n",
              "      <td>GRP_0</td>\n",
              "      <td>unable to access hr tool page unable to access...</td>\n",
              "      <td>['unable', 'access', 'hr', 'tool', 'page', 'un...</td>\n",
              "      <td>0</td>\n",
              "    </tr>\n",
              "    <tr>\n",
              "      <th>4</th>\n",
              "      <td>GRP_0</td>\n",
              "      <td>skype error skype error</td>\n",
              "      <td>['skype', 'error', 'skype', 'error']</td>\n",
              "      <td>0</td>\n",
              "    </tr>\n",
              "  </tbody>\n",
              "</table>\n",
              "</div>"
            ],
            "text/plain": [
              "  Assignment group                                    New Description  \\\n",
              "0            GRP_0  login issue verified user details employee man...   \n",
              "1            GRP_0  outlook received from hmjdrvpb komuaywn team m...   \n",
              "2            GRP_0  cannot log in to vpn received from eylqgodm yb...   \n",
              "3            GRP_0  unable to access hr tool page unable to access...   \n",
              "4            GRP_0                            skype error skype error   \n",
              "\n",
              "                                    Lemmatized clean  Assignment group ID  \n",
              "0  ['login', 'issue', 'verify', 'user', 'detail',...                    0  \n",
              "1  ['outlook', 'receive', 'hmjdrvpb', 'komuaywn',...                    0  \n",
              "2  ['log', 'vpn', 'receive', 'eylqgodm', 'ybqkwia...                    0  \n",
              "3  ['unable', 'access', 'hr', 'tool', 'page', 'un...                    0  \n",
              "4               ['skype', 'error', 'skype', 'error']                    0  "
            ]
          },
          "metadata": {
            "tags": []
          },
          "execution_count": 43
        }
      ]
    },
    {
      "cell_type": "code",
      "metadata": {
        "id": "u7IjWCec_JB6"
      },
      "source": [
        "from tensorflow.keras.preprocessing.text import Tokenizer\n",
        "from tensorflow.keras.preprocessing.sequence import pad_sequences\n",
        "\n",
        "max_len = 300\n",
        "tokenizer = Tokenizer(split=' ')\n",
        "tokenizer.fit_on_texts(df_to_process[\"New Description\"].values)\n",
        "X_seq = tokenizer.texts_to_sequences(df_to_process[\"New Description\"].values)\n",
        "X_padded = pad_sequences(X_seq, maxlen=max_len)"
      ],
      "execution_count": 44,
      "outputs": []
    },
    {
      "cell_type": "code",
      "metadata": {
        "id": "JSxc9UjJIjKZ",
        "outputId": "d45fae21-377f-492a-ab8c-09fe94c0c949",
        "colab": {
          "base_uri": "https://localhost:8080/",
          "height": 34
        }
      },
      "source": [
        "numWords = len(tokenizer.word_index) + 1\n",
        "epochs = 10\n",
        "batch_size=100\n",
        "numWords"
      ],
      "execution_count": 45,
      "outputs": [
        {
          "output_type": "execute_result",
          "data": {
            "text/plain": [
              "15389"
            ]
          },
          "metadata": {
            "tags": []
          },
          "execution_count": 45
        }
      ]
    },
    {
      "cell_type": "code",
      "metadata": {
        "id": "k6Ih_FN2_xlD"
      },
      "source": [
        "# Try the BiLSTM model on the raw or unsampled data and predict the accuracy.\n",
        "\n",
        "# Tokenize\n",
        "tokenizer, X = wordTokenizer(df_to_process['New Description'])\n",
        "y = np.asarray(df_to_process['Assignment group ID'])\n",
        "X = pad_sequences(X,maxlen=max_len)"
      ],
      "execution_count": 46,
      "outputs": []
    },
    {
      "cell_type": "code",
      "metadata": {
        "id": "bXx3vrlQuVr9",
        "outputId": "eeff388d-0313-4c9d-906b-8aa5195ca0f0",
        "colab": {
          "base_uri": "https://localhost:8080/",
          "height": 238
        }
      },
      "source": [
        "# Create embedding matrix\n",
        "\n",
        "embedding_matrix = np.zeros((numWords+1,100))\n",
        "\n",
        "for i,word in tokenizer.index_word.items():\n",
        "  if i<numWords+1:\n",
        "    embedding_vector = embedding_indices.get(word)\n",
        "    if embedding_vector is not None:\n",
        "      embedding_matrix[i] = embedding_vector\n",
        "\n",
        "embedding_matrix"
      ],
      "execution_count": 47,
      "outputs": [
        {
          "output_type": "execute_result",
          "data": {
            "text/plain": [
              "array([[ 0.00000000e+00,  0.00000000e+00,  0.00000000e+00, ...,\n",
              "         0.00000000e+00,  0.00000000e+00,  0.00000000e+00],\n",
              "       [ 4.23525631e-01, -6.91158831e-01,  4.10426170e-01, ...,\n",
              "         3.16913649e-02, -6.16175719e-02, -2.86126018e-01],\n",
              "       [-1.91436976e-01, -4.07887578e-01,  7.47101843e-01, ...,\n",
              "         1.65066570e-01, -2.97939509e-01, -7.22004235e-01],\n",
              "       ...,\n",
              "       [-1.90540648e-03, -2.28524162e-03,  1.36087798e-02, ...,\n",
              "        -4.34959074e-03, -3.20776529e-03,  7.20080733e-03],\n",
              "       [-4.77264682e-03,  1.59103447e-03,  1.56665854e-02, ...,\n",
              "        -2.59882421e-03, -4.43886407e-03,  6.42157567e-04],\n",
              "       [ 0.00000000e+00,  0.00000000e+00,  0.00000000e+00, ...,\n",
              "         0.00000000e+00,  0.00000000e+00,  0.00000000e+00]])"
            ]
          },
          "metadata": {
            "tags": []
          },
          "execution_count": 47
        }
      ]
    },
    {
      "cell_type": "code",
      "metadata": {
        "id": "YheKYV7quZet"
      },
      "source": [
        "X_train, X_test, y_train, y_test = train_test_split(X,y,test_size = 0.3)"
      ],
      "execution_count": 48,
      "outputs": []
    },
    {
      "cell_type": "code",
      "metadata": {
        "id": "99WPyShLBwHT",
        "outputId": "59c14c19-bf17-4674-c050-911afe6f1811",
        "colab": {
          "base_uri": "https://localhost:8080/",
          "height": 289
        }
      },
      "source": [
        "X_train,X_test,y_train,y_test"
      ],
      "execution_count": 49,
      "outputs": [
        {
          "output_type": "execute_result",
          "data": {
            "text/plain": [
              "(array([[   0,    0,    0, ...,  512, 3278, 3279],\n",
              "        [   0,    0,    0, ...,    4,   24,   17],\n",
              "        [   0,    0,    0, ..., 2524,  149,  140],\n",
              "        ...,\n",
              "        [   0,    0,    0, ..., 1100,  727,  734],\n",
              "        [   0,    0,    0, ...,    8, 1142,  851],\n",
              "        [   0,    0,    0, ...,  420,    3,   48]], dtype=int32),\n",
              " array([[   0,    0,    0, ...,    4,   24,   17],\n",
              "        [   0,    0,    0, ...,    1,   89,   14],\n",
              "        [   0,    0,    0, ...,    6,  205,   80],\n",
              "        ...,\n",
              "        [   0,    0,    0, ...,   45,   73,    9],\n",
              "        [   0,    0,    0, ...,   37,  182,  632],\n",
              "        [   0,    0,    0, ...,  870, 1665, 1666]], dtype=int32),\n",
              " array([17, 72, 73, ..., 40, 12,  0]),\n",
              " array([72,  0, 34, ..., 72,  0, 17]))"
            ]
          },
          "metadata": {
            "tags": []
          },
          "execution_count": 49
        }
      ]
    },
    {
      "cell_type": "code",
      "metadata": {
        "id": "TeZrTkshBaNk",
        "outputId": "2764bbfa-997c-4491-f96f-3321fa739d5f",
        "colab": {
          "base_uri": "https://localhost:8080/",
          "height": 102
        }
      },
      "source": [
        "(pd.Series(y_train)).unique()"
      ],
      "execution_count": 50,
      "outputs": [
        {
          "output_type": "execute_result",
          "data": {
            "text/plain": [
              "array([17, 72, 73,  0, 56,  6,  8, 34, 25, 59, 11, 30,  5,  9, 33, 12,  4,\n",
              "       23, 21, 14, 28, 16,  3, 19, 27, 22, 47, 60, 35, 18, 45, 10,  2,  1,\n",
              "       13, 24, 67, 15, 64, 20, 46,  7, 36, 43, 40, 41, 31, 42, 26, 39, 37,\n",
              "       38, 48, 49, 51, 57, 62, 55, 66, 69, 50, 44, 71, 63, 52, 65, 61, 54,\n",
              "       32, 53, 29, 68, 58])"
            ]
          },
          "metadata": {
            "tags": []
          },
          "execution_count": 50
        }
      ]
    },
    {
      "cell_type": "code",
      "metadata": {
        "id": "6leC6fDzudb3",
        "outputId": "cae1825b-0568-4b23-a4d4-6d7a95ce2837",
        "colab": {
          "base_uri": "https://localhost:8080/",
          "height": 357
        }
      },
      "source": [
        "input_layer = Input(shape=(max_len,),dtype=tf.int64)\n",
        "embed = Embedding(numWords+1,output_dim=100,input_length=max_len,weights=[embedding_matrix], trainable=True)(input_layer)  #weights=[embedding_matrix]\n",
        "lstm=Bidirectional(LSTM(128))(embed)\n",
        "drop=Dropout(0.3)(lstm)\n",
        "dense =Dense(100,activation='relu')(drop)\n",
        "out=Dense((len((pd.Series(y_train)).unique())+1),activation='softmax')(dense)   \n",
        "\n",
        "model = Model(input_layer,out)\n",
        "model.compile(loss='sparse_categorical_crossentropy',optimizer=\"adam\",metrics=['accuracy'])\n",
        "\n",
        "model.summary()\n",
        "plot_model(model,to_file=\"LSTM_Model.jpg\")\n",
        "\n",
        "checkpoint = ModelCheckpoint('model-{epoch:03d}-{val_accuracy:03f}.h5', verbose=1, monitor='val_accuracy',save_best_only=True, mode='auto') \n",
        "reduceLoss = ReduceLROnPlateau(monitor='val_loss', factor=0.2,patience=2, min_lr=0.0001)"
      ],
      "execution_count": 51,
      "outputs": [
        {
          "output_type": "stream",
          "text": [
            "Model: \"functional_3\"\n",
            "_________________________________________________________________\n",
            "Layer (type)                 Output Shape              Param #   \n",
            "=================================================================\n",
            "input_2 (InputLayer)         [(None, 300)]             0         \n",
            "_________________________________________________________________\n",
            "embedding_1 (Embedding)      (None, 300, 100)          1539000   \n",
            "_________________________________________________________________\n",
            "bidirectional_1 (Bidirection (None, 256)               234496    \n",
            "_________________________________________________________________\n",
            "dropout_1 (Dropout)          (None, 256)               0         \n",
            "_________________________________________________________________\n",
            "dense_2 (Dense)              (None, 100)               25700     \n",
            "_________________________________________________________________\n",
            "dense_3 (Dense)              (None, 74)                7474      \n",
            "=================================================================\n",
            "Total params: 1,806,670\n",
            "Trainable params: 1,806,670\n",
            "Non-trainable params: 0\n",
            "_________________________________________________________________\n"
          ],
          "name": "stdout"
        }
      ]
    },
    {
      "cell_type": "code",
      "metadata": {
        "id": "dxrS-3fn7Kp1",
        "outputId": "7122c780-9242-4dd7-9fd2-7115f0180eb9",
        "colab": {
          "base_uri": "https://localhost:8080/",
          "height": 697
        }
      },
      "source": [
        "model_history = model.fit(X_train,y_train,batch_size=batch_size, epochs=epochs, callbacks=[checkpoint,reduceLoss], validation_data=(X_test,y_test))"
      ],
      "execution_count": 52,
      "outputs": [
        {
          "output_type": "stream",
          "text": [
            "Epoch 1/10\n",
            "56/56 [==============================] - ETA: 0s - loss: 2.6905 - accuracy: 0.4709\n",
            "Epoch 00001: val_accuracy improved from -inf to 0.52857, saving model to model-001-0.528565.h5\n",
            "56/56 [==============================] - 106s 2s/step - loss: 2.6905 - accuracy: 0.4709 - val_loss: 2.2017 - val_accuracy: 0.5286\n",
            "Epoch 2/10\n",
            "56/56 [==============================] - ETA: 0s - loss: 2.0827 - accuracy: 0.5362\n",
            "Epoch 00002: val_accuracy improved from 0.52857 to 0.55353, saving model to model-002-0.553534.h5\n",
            "56/56 [==============================] - 107s 2s/step - loss: 2.0827 - accuracy: 0.5362 - val_loss: 1.9850 - val_accuracy: 0.5535\n",
            "Epoch 3/10\n",
            "56/56 [==============================] - ETA: 0s - loss: 1.9449 - accuracy: 0.5512\n",
            "Epoch 00003: val_accuracy improved from 0.55353 to 0.55480, saving model to model-003-0.554803.h5\n",
            "56/56 [==============================] - 108s 2s/step - loss: 1.9449 - accuracy: 0.5512 - val_loss: 1.8954 - val_accuracy: 0.5548\n",
            "Epoch 4/10\n",
            "56/56 [==============================] - ETA: 0s - loss: 1.8444 - accuracy: 0.5565\n",
            "Epoch 00004: val_accuracy did not improve from 0.55480\n",
            "56/56 [==============================] - 107s 2s/step - loss: 1.8444 - accuracy: 0.5565 - val_loss: 1.9041 - val_accuracy: 0.5451\n",
            "Epoch 5/10\n",
            "56/56 [==============================] - ETA: 0s - loss: 1.7476 - accuracy: 0.5654\n",
            "Epoch 00005: val_accuracy improved from 0.55480 to 0.56369, saving model to model-005-0.563690.h5\n",
            "56/56 [==============================] - 107s 2s/step - loss: 1.7476 - accuracy: 0.5654 - val_loss: 1.8130 - val_accuracy: 0.5637\n",
            "Epoch 6/10\n",
            "56/56 [==============================] - ETA: 0s - loss: 1.6193 - accuracy: 0.5839\n",
            "Epoch 00006: val_accuracy improved from 0.56369 to 0.57342, saving model to model-006-0.573424.h5\n",
            "56/56 [==============================] - 109s 2s/step - loss: 1.6193 - accuracy: 0.5839 - val_loss: 1.7367 - val_accuracy: 0.5734\n",
            "Epoch 7/10\n",
            "56/56 [==============================] - ETA: 0s - loss: 1.4658 - accuracy: 0.6071\n",
            "Epoch 00007: val_accuracy improved from 0.57342 to 0.59204, saving model to model-007-0.592044.h5\n",
            "56/56 [==============================] - 108s 2s/step - loss: 1.4658 - accuracy: 0.6071 - val_loss: 1.7936 - val_accuracy: 0.5920\n",
            "Epoch 8/10\n",
            "56/56 [==============================] - ETA: 0s - loss: 1.3450 - accuracy: 0.6233\n",
            "Epoch 00008: val_accuracy did not improve from 0.59204\n",
            "56/56 [==============================] - 108s 2s/step - loss: 1.3450 - accuracy: 0.6233 - val_loss: 1.7227 - val_accuracy: 0.5662\n",
            "Epoch 9/10\n",
            "56/56 [==============================] - ETA: 0s - loss: 1.2261 - accuracy: 0.6506\n",
            "Epoch 00009: val_accuracy did not improve from 0.59204\n",
            "56/56 [==============================] - 109s 2s/step - loss: 1.2261 - accuracy: 0.6506 - val_loss: 1.7499 - val_accuracy: 0.5679\n",
            "Epoch 10/10\n",
            "56/56 [==============================] - ETA: 0s - loss: 1.0905 - accuracy: 0.6857\n",
            "Epoch 00010: val_accuracy did not improve from 0.59204\n",
            "56/56 [==============================] - 107s 2s/step - loss: 1.0905 - accuracy: 0.6857 - val_loss: 1.7910 - val_accuracy: 0.5726\n"
          ],
          "name": "stdout"
        }
      ]
    },
    {
      "cell_type": "code",
      "metadata": {
        "id": "4AvoGSGQIKin",
        "outputId": "47c9e968-774b-4cc5-b00c-31bcc8bd452d",
        "colab": {
          "base_uri": "https://localhost:8080/",
          "height": 295
        }
      },
      "source": [
        "# Plotting losses\n",
        "loss_values = model_history.history['loss']\n",
        "val_loss_values = model_history.history['val_loss']\n",
        "\n",
        "epochs = range(1, len(loss_values) + 1)\n",
        "\n",
        "plt.plot(epochs, loss_values, 'bo', label=\"Training Loss\")\n",
        "plt.plot(epochs, val_loss_values, 'b', label=\"Validation Loss\")\n",
        "\n",
        "plt.title('LSTM on sampled data - Training and Validation Loss')\n",
        "plt.xlabel('Epochs')\n",
        "plt.ylabel('Loss Value')\n",
        "plt.legend()\n",
        "\n",
        "plt.show()"
      ],
      "execution_count": 53,
      "outputs": [
        {
          "output_type": "display_data",
          "data": {
            "image/png": "[encoded data removed]",
            "text/plain": [
              "<Figure size 432x288 with 1 Axes>"
            ]
          },
          "metadata": {
            "tags": [],
            "needs_background": "light"
          }
        }
      ]
    },
    {
      "cell_type": "code",
      "metadata": {
        "id": "JaNsQD41ILI8",
        "outputId": "60d20721-be54-4f9c-a593-9cc393677c80",
        "colab": {
          "base_uri": "https://localhost:8080/",
          "height": 295
        }
      },
      "source": [
        "# Training and Validation Accuracy\n",
        "\n",
        "acc_values = model_history.history['accuracy']\n",
        "val_acc_values = model_history.history['val_accuracy']\n",
        "\n",
        "epochs = range(1, len(loss_values) + 1)\n",
        "\n",
        "plt.plot(epochs, acc_values, 'ro', label=\"Training Accuracy\")\n",
        "plt.plot(epochs, val_acc_values, 'r', label=\"Validation Accuracy\")\n",
        "\n",
        "plt.title('LSTM on sampled data - Training and Validation Accuraccy')\n",
        "plt.xlabel('Epochs')\n",
        "plt.ylabel('Accuracy')\n",
        "plt.legend()\n",
        "\n",
        "plt.show()"
      ],
      "execution_count": 54,
      "outputs": [
        {
          "output_type": "display_data",
          "data": {
            "image/png": "[encoded data removed]",
            "text/plain": [
              "<Figure size 432x288 with 1 Axes>"
            ]
          },
          "metadata": {
            "tags": [],
            "needs_background": "light"
          }
        }
      ]
    },
    {
      "cell_type": "code",
      "metadata": {
        "id": "Y4TwMgUNFRbA"
      },
      "source": [
        "model_df = pd.DataFrame(model_history.history)"
      ],
      "execution_count": 56,
      "outputs": []
    },
    {
      "cell_type": "code",
      "metadata": {
        "id": "oLaE40tbGDpk",
        "outputId": "db24821b-d7ff-440c-8b59-02bfa8870148",
        "colab": {
          "base_uri": "https://localhost:8080/",
          "height": 359
        }
      },
      "source": [
        "model_df"
      ],
      "execution_count": 57,
      "outputs": [
        {
          "output_type": "execute_result",
          "data": {
            "text/html": [
              "<div>\n",
              "<style scoped>\n",
              "    .dataframe tbody tr th:only-of-type {\n",
              "        vertical-align: middle;\n",
              "    }\n",
              "\n",
              "    .dataframe tbody tr th {\n",
              "        vertical-align: top;\n",
              "    }\n",
              "\n",
              "    .dataframe thead th {\n",
              "        text-align: right;\n",
              "    }\n",
              "</style>\n",
              "<table border=\"1\" class=\"dataframe\">\n",
              "  <thead>\n",
              "    <tr style=\"text-align: right;\">\n",
              "      <th></th>\n",
              "      <th>loss</th>\n",
              "      <th>accuracy</th>\n",
              "      <th>val_loss</th>\n",
              "      <th>val_accuracy</th>\n",
              "      <th>lr</th>\n",
              "    </tr>\n",
              "  </thead>\n",
              "  <tbody>\n",
              "    <tr>\n",
              "      <th>0</th>\n",
              "      <td>2.690480</td>\n",
              "      <td>0.470887</td>\n",
              "      <td>2.201689</td>\n",
              "      <td>0.528565</td>\n",
              "      <td>0.001</td>\n",
              "    </tr>\n",
              "    <tr>\n",
              "      <th>1</th>\n",
              "      <td>2.082683</td>\n",
              "      <td>0.536187</td>\n",
              "      <td>1.985010</td>\n",
              "      <td>0.553534</td>\n",
              "      <td>0.001</td>\n",
              "    </tr>\n",
              "    <tr>\n",
              "      <th>2</th>\n",
              "      <td>1.944865</td>\n",
              "      <td>0.551243</td>\n",
              "      <td>1.895366</td>\n",
              "      <td>0.554803</td>\n",
              "      <td>0.001</td>\n",
              "    </tr>\n",
              "    <tr>\n",
              "      <th>3</th>\n",
              "      <td>1.844409</td>\n",
              "      <td>0.556503</td>\n",
              "      <td>1.904078</td>\n",
              "      <td>0.545070</td>\n",
              "      <td>0.001</td>\n",
              "    </tr>\n",
              "    <tr>\n",
              "      <th>4</th>\n",
              "      <td>1.747556</td>\n",
              "      <td>0.565391</td>\n",
              "      <td>1.812972</td>\n",
              "      <td>0.563690</td>\n",
              "      <td>0.001</td>\n",
              "    </tr>\n",
              "    <tr>\n",
              "      <th>5</th>\n",
              "      <td>1.619342</td>\n",
              "      <td>0.583893</td>\n",
              "      <td>1.736690</td>\n",
              "      <td>0.573424</td>\n",
              "      <td>0.001</td>\n",
              "    </tr>\n",
              "    <tr>\n",
              "      <th>6</th>\n",
              "      <td>1.465819</td>\n",
              "      <td>0.607110</td>\n",
              "      <td>1.793593</td>\n",
              "      <td>0.592044</td>\n",
              "      <td>0.001</td>\n",
              "    </tr>\n",
              "    <tr>\n",
              "      <th>7</th>\n",
              "      <td>1.344993</td>\n",
              "      <td>0.623254</td>\n",
              "      <td>1.722721</td>\n",
              "      <td>0.566229</td>\n",
              "      <td>0.001</td>\n",
              "    </tr>\n",
              "    <tr>\n",
              "      <th>8</th>\n",
              "      <td>1.226102</td>\n",
              "      <td>0.650644</td>\n",
              "      <td>1.749920</td>\n",
              "      <td>0.567922</td>\n",
              "      <td>0.001</td>\n",
              "    </tr>\n",
              "    <tr>\n",
              "      <th>9</th>\n",
              "      <td>1.090545</td>\n",
              "      <td>0.685652</td>\n",
              "      <td>1.791012</td>\n",
              "      <td>0.572577</td>\n",
              "      <td>0.001</td>\n",
              "    </tr>\n",
              "  </tbody>\n",
              "</table>\n",
              "</div>"
            ],
            "text/plain": [
              "       loss  accuracy  val_loss  val_accuracy     lr\n",
              "0  2.690480  0.470887  2.201689      0.528565  0.001\n",
              "1  2.082683  0.536187  1.985010      0.553534  0.001\n",
              "2  1.944865  0.551243  1.895366      0.554803  0.001\n",
              "3  1.844409  0.556503  1.904078      0.545070  0.001\n",
              "4  1.747556  0.565391  1.812972      0.563690  0.001\n",
              "5  1.619342  0.583893  1.736690      0.573424  0.001\n",
              "6  1.465819  0.607110  1.793593      0.592044  0.001\n",
              "7  1.344993  0.623254  1.722721      0.566229  0.001\n",
              "8  1.226102  0.650644  1.749920      0.567922  0.001\n",
              "9  1.090545  0.685652  1.791012      0.572577  0.001"
            ]
          },
          "metadata": {
            "tags": []
          },
          "execution_count": 57
        }
      ]
    },
    {
      "cell_type": "code",
      "metadata": {
        "id": "znL7NjFiGIpd"
      },
      "source": [
        ""
      ],
      "execution_count": null,
      "outputs": []
    }
  ]
}